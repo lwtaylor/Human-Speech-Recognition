{
 "cells": [
  {
   "cell_type": "markdown",
   "id": "5809cf8a",
   "metadata": {},
   "source": [
    "# AudioModel Testing Notebook \n",
    "\n",
    "Testing to see if the code I compiled from that guy works\n",
    "\n",
    "### Thoughts:\n",
    "* I think we will want to use weights and biases or tensorboard to keep track of the model's progress. \n",
    "    * Need to get a solid frame work for improvement set up, so the stuff we are doing isn't so random after all.\n",
    "    * First we need to find a solid architecture, next we will find the best hyper parameters for our model. "
   ]
  },
  {
   "cell_type": "code",
   "execution_count": 3,
   "id": "50d6770a",
   "metadata": {},
   "outputs": [],
   "source": [
    "import wandb"
   ]
  },
  {
   "cell_type": "code",
   "execution_count": 4,
   "id": "9a330ff6",
   "metadata": {},
   "outputs": [
    {
     "ename": "AttributeError",
     "evalue": "module 'wandb' has no attribute 'login'",
     "output_type": "error",
     "traceback": [
      "\u001b[0;31m---------------------------------------------------------------------------\u001b[0m",
      "\u001b[0;31mAttributeError\u001b[0m                            Traceback (most recent call last)",
      "Cell \u001b[0;32mIn[4], line 1\u001b[0m\n\u001b[0;32m----> 1\u001b[0m \u001b[43mwandb\u001b[49m\u001b[38;5;241;43m.\u001b[39;49m\u001b[43mlogin\u001b[49m() \u001b[38;5;66;03m# relogin=True\u001b[39;00m\n",
      "\u001b[0;31mAttributeError\u001b[0m: module 'wandb' has no attribute 'login'"
     ]
    }
   ],
   "source": [
    "wandb.login() # relogin=True"
   ]
  },
  {
   "cell_type": "code",
   "execution_count": null,
   "id": "ca08dd06",
   "metadata": {},
   "outputs": [],
   "source": [
    "from AudioDataset import * \n",
    "from AudioModel import * \n",
    "from train import * \n",
    "\n",
    "from torch.utils.data import DataLoader\n"
   ]
  },
  {
   "cell_type": "code",
   "execution_count": null,
   "id": "8e3b6aac",
   "metadata": {},
   "outputs": [],
   "source": [
    "# BATCH_SIZE = 128\n",
    "# EPOCHS = 10\n",
    "# LEARNING_RATE = 0.001\n",
    "\n",
    "# AUDIO_DIR = '../data/Crema'\n",
    "# SAMPLE_RATE = 16000\n",
    "# NUM_SAMPLES = 22050\n"
   ]
  },
  {
   "cell_type": "code",
   "execution_count": null,
   "id": "7f42ea5d",
   "metadata": {},
   "outputs": [],
   "source": [
    "hyperparameters = dict(\n",
    "    epochs=10,\n",
    "    batch_size=64, \n",
    "    learning_rate=0.001, \n",
    "    audio_dir='../data/Crema',\n",
    "    sample_rate=16000,\n",
    "    num_samples=22050, \n",
    "    n_fft=1024, \n",
    "    hop_length=512, \n",
    "    n_mels=64, \n",
    "    model='cnn', \n",
    "    dataset='crema'\n",
    ")"
   ]
  },
  {
   "cell_type": "markdown",
   "id": "fae761f4",
   "metadata": {},
   "source": [
    "#### TODO: add a `make` function! https://colab.research.google.com/github/wandb/examples/blob/master/colabs/pytorch/Simple_PyTorch_Integration.ipynb#scrollTo=I87OUqkWvBKq"
   ]
  },
  {
   "cell_type": "code",
   "execution_count": null,
   "id": "e0c98700",
   "metadata": {},
   "outputs": [
    {
     "data": {
      "text/html": [
       "Tracking run with wandb version 0.16.6"
      ],
      "text/plain": [
       "<IPython.core.display.HTML object>"
      ]
     },
     "metadata": {},
     "output_type": "display_data"
    },
    {
     "data": {
      "text/html": [
       "Run data is saved locally in <code>/home/lwtaylor/ds3-audio/notebooks/wandb/run-20240426_220015-bl8ua3xe</code>"
      ],
      "text/plain": [
       "<IPython.core.display.HTML object>"
      ]
     },
     "metadata": {},
     "output_type": "display_data"
    },
    {
     "data": {
      "text/html": [
       "Syncing run <strong><a href='https://wandb.ai/lwtaylor/simple-melspectogram-cnn/runs/bl8ua3xe' target=\"_blank\">different-haze-1</a></strong> to <a href='https://wandb.ai/lwtaylor/simple-melspectogram-cnn' target=\"_blank\">Weights & Biases</a> (<a href='https://wandb.me/run' target=\"_blank\">docs</a>)<br/>"
      ],
      "text/plain": [
       "<IPython.core.display.HTML object>"
      ]
     },
     "metadata": {},
     "output_type": "display_data"
    },
    {
     "data": {
      "text/html": [
       " View project at <a href='https://wandb.ai/lwtaylor/simple-melspectogram-cnn' target=\"_blank\">https://wandb.ai/lwtaylor/simple-melspectogram-cnn</a>"
      ],
      "text/plain": [
       "<IPython.core.display.HTML object>"
      ]
     },
     "metadata": {},
     "output_type": "display_data"
    },
    {
     "data": {
      "text/html": [
       " View run at <a href='https://wandb.ai/lwtaylor/simple-melspectogram-cnn/runs/bl8ua3xe' target=\"_blank\">https://wandb.ai/lwtaylor/simple-melspectogram-cnn/runs/bl8ua3xe</a>"
      ],
      "text/plain": [
       "<IPython.core.display.HTML object>"
      ]
     },
     "metadata": {},
     "output_type": "display_data"
    },
    {
     "name": "stdout",
     "output_type": "stream",
     "text": [
      "Using cuda\n",
      "CNNNetwork(\n",
      "  (conv1): Sequential(\n",
      "    (0): Conv2d(1, 16, kernel_size=(3, 3), stride=(1, 1), padding=(2, 2))\n",
      "    (1): ReLU()\n",
      "    (2): MaxPool2d(kernel_size=2, stride=2, padding=0, dilation=1, ceil_mode=False)\n",
      "  )\n",
      "  (conv2): Sequential(\n",
      "    (0): Conv2d(16, 32, kernel_size=(3, 3), stride=(1, 1), padding=(2, 2))\n",
      "    (1): ReLU()\n",
      "    (2): MaxPool2d(kernel_size=2, stride=2, padding=0, dilation=1, ceil_mode=False)\n",
      "  )\n",
      "  (conv3): Sequential(\n",
      "    (0): Conv2d(32, 64, kernel_size=(3, 3), stride=(1, 1), padding=(2, 2))\n",
      "    (1): ReLU()\n",
      "    (2): MaxPool2d(kernel_size=2, stride=2, padding=0, dilation=1, ceil_mode=False)\n",
      "  )\n",
      "  (conv4): Sequential(\n",
      "    (0): Conv2d(64, 128, kernel_size=(3, 3), stride=(1, 1), padding=(2, 2))\n",
      "    (1): ReLU()\n",
      "    (2): MaxPool2d(kernel_size=2, stride=2, padding=0, dilation=1, ceil_mode=False)\n",
      "  )\n",
      "  (flatten): Flatten(start_dim=1, end_dim=-1)\n",
      "  (linear): Linear(in_features=2560, out_features=6, bias=True)\n",
      "  (softmax): Softmax(dim=1)\n",
      ")\n"
     ]
    },
    {
     "name": "stderr",
     "output_type": "stream",
     "text": [
      "\r\n",
      "  0%|          | 0/10 [00:00<?, ?it/s]"
     ]
    },
    {
     "name": "stdout",
     "output_type": "stream",
     "text": [
      "Epoch 1\n",
      "Loss after 01536 examples: 1.649\n",
      "Loss after 03136 examples: 1.619\n",
      "Loss after 04736 examples: 1.565\n",
      "Loss after 06336 examples: 1.544\n"
     ]
    },
    {
     "name": "stderr",
     "output_type": "stream",
     "text": [
      "\r\n",
      " 10%|█         | 1/10 [01:10<10:30, 70.04s/it]"
     ]
    },
    {
     "name": "stdout",
     "output_type": "stream",
     "text": [
      "loss: 1.7439117431640625\n",
      "---------------------------\n",
      "Epoch 2\n",
      "Loss after 07890 examples: 1.589\n",
      "Loss after 09490 examples: 1.684\n",
      "Loss after 11090 examples: 1.596\n",
      "Loss after 12690 examples: 1.659\n"
     ]
    }
   ],
   "source": [
    "with wandb.init(project='simple-melspectogram-cnn', config=hyperparameters):\n",
    "    config=wandb.config\n",
    "    \n",
    "    if torch.cuda.is_available():\n",
    "            device = \"cuda\"\n",
    "    else:\n",
    "        device = \"cpu\"\n",
    "    print(f\"Using {device}\")\n",
    "\n",
    "    # instantiating our dataset object and create data loader\n",
    "    mel_spectrogram = torchaudio.transforms.MelSpectrogram(\n",
    "        sample_rate=config.sample_rate,\n",
    "        n_fft=config.n_fft,\n",
    "        hop_length=config.hop_length,\n",
    "        n_mels=config.n_mels\n",
    "    )\n",
    "\n",
    "    audio_dataset = AudioEmotionDataset(config.audio_dir,\n",
    "                            mel_spectrogram,\n",
    "                            config.sample_rate,\n",
    "                            config.num_samples,\n",
    "                            device)\n",
    "\n",
    "    train_dataloader = create_data_loader(audio_dataset, config.batch_size)\n",
    "\n",
    "    # construct model and assign it to device\n",
    "    cnn = CNNNetwork().to(device)\n",
    "    print(cnn)\n",
    "\n",
    "    # initialise loss funtion + optimiser\n",
    "    loss_fn = nn.CrossEntropyLoss()\n",
    "    optimiser = torch.optim.Adam(cnn.parameters(),\n",
    "                                 lr=config.learning_rate)\n",
    "    \n",
    "    train(cnn, train_dataloader, loss_fn, optimiser, device, config.epochs)\n",
    "\n",
    "    # save model\n",
    "    torch.save(cnn.state_dict(), \"feedforwardnet.pth\")\n",
    "    print(\"Trained feed forward net saved at feedforwardnet.pth\")"
   ]
  }
 ],
 "metadata": {
  "kernelspec": {
   "display_name": "Python 3 (ipykernel)",
   "language": "python",
   "name": "python3"
  },
  "language_info": {
   "codemirror_mode": {
    "name": "ipython",
    "version": 3
   },
   "file_extension": ".py",
   "mimetype": "text/x-python",
   "name": "python",
   "nbconvert_exporter": "python",
   "pygments_lexer": "ipython3",
   "version": "3.9.19"
  }
 },
 "nbformat": 4,
 "nbformat_minor": 5
}
