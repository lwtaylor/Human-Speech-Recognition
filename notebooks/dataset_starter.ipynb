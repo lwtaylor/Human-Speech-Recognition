{
 "cells": [
  {
   "cell_type": "code",
   "execution_count": 1,
   "id": "058278da",
   "metadata": {},
   "outputs": [],
   "source": [
    "import os\n",
    "import pandas as pd\n",
    "import matplotlib.pyplot as plt\n",
    "import numpy as np\n",
    "from sklearn.model_selection import train_test_split"
   ]
  },
  {
   "cell_type": "code",
   "execution_count": 24,
   "id": "47c3dedf",
   "metadata": {},
   "outputs": [],
   "source": [
    "savee_df = pd.DataFrame()\n",
    "# savee_df['filename'] = pd.Series(os.listdir('../data/Savee'))\n",
    "# savee_df['category'] = savee_df.filename.str.extract(r'[A-Z]{2,}_([a-z]{1,2})\\d{2}\\.wav').replace({'d': 'DIS', 'h': 'HAP', 'n': 'NEU', 'a': 'ANG', 'f': 'FEA', 'sa': 'SAD'})\n",
    "# savee_df['filename'] = 'data/Savee/' + savee_df['filename']\n",
    "# savee_df = savee_df.drop(savee_df[savee_df.category == 'su'].index)\n",
    "# savee_df.head()"
   ]
  },
  {
   "cell_type": "code",
   "execution_count": 25,
   "id": "fc088302",
   "metadata": {},
   "outputs": [
    {
     "data": {
      "text/html": [
       "<div>\n",
       "<style scoped>\n",
       "    .dataframe tbody tr th:only-of-type {\n",
       "        vertical-align: middle;\n",
       "    }\n",
       "\n",
       "    .dataframe tbody tr th {\n",
       "        vertical-align: top;\n",
       "    }\n",
       "\n",
       "    .dataframe thead th {\n",
       "        text-align: right;\n",
       "    }\n",
       "</style>\n",
       "<table border=\"1\" class=\"dataframe\">\n",
       "  <thead>\n",
       "    <tr style=\"text-align: right;\">\n",
       "      <th></th>\n",
       "      <th>filename</th>\n",
       "      <th>category</th>\n",
       "    </tr>\n",
       "  </thead>\n",
       "  <tbody>\n",
       "    <tr>\n",
       "      <th>0</th>\n",
       "      <td>data/Crema/1048_IEO_NEU_XX.wav</td>\n",
       "      <td>NEU</td>\n",
       "    </tr>\n",
       "    <tr>\n",
       "      <th>1</th>\n",
       "      <td>data/Crema/1058_IWW_SAD_XX.wav</td>\n",
       "      <td>SAD</td>\n",
       "    </tr>\n",
       "    <tr>\n",
       "      <th>2</th>\n",
       "      <td>data/Crema/1046_IWW_SAD_XX.wav</td>\n",
       "      <td>SAD</td>\n",
       "    </tr>\n",
       "    <tr>\n",
       "      <th>3</th>\n",
       "      <td>data/Crema/1056_IEO_NEU_XX.wav</td>\n",
       "      <td>NEU</td>\n",
       "    </tr>\n",
       "    <tr>\n",
       "      <th>4</th>\n",
       "      <td>data/Crema/1010_IEO_DIS_HI.wav</td>\n",
       "      <td>DIS</td>\n",
       "    </tr>\n",
       "  </tbody>\n",
       "</table>\n",
       "</div>"
      ],
      "text/plain": [
       "                         filename category\n",
       "0  data/Crema/1048_IEO_NEU_XX.wav      NEU\n",
       "1  data/Crema/1058_IWW_SAD_XX.wav      SAD\n",
       "2  data/Crema/1046_IWW_SAD_XX.wav      SAD\n",
       "3  data/Crema/1056_IEO_NEU_XX.wav      NEU\n",
       "4  data/Crema/1010_IEO_DIS_HI.wav      DIS"
      ]
     },
     "execution_count": 25,
     "metadata": {},
     "output_type": "execute_result"
    }
   ],
   "source": [
    "crema_df = pd.DataFrame()\n",
    "crema_df['filename'] = pd.Series(os.listdir('../data/Crema'))\n",
    "crema_df['category'] = crema_df['filename'].str.extract(r'\\d+_[A-Z]{3}_([A-Z]{3})_[A-Z]+.wav')\n",
    "crema_df['filename'] = 'data/Crema/' + crema_df['filename']\n",
    "\n",
    "df = pd.concat([crema_df, savee_df])\n",
    "df.head()"
   ]
  },
  {
   "cell_type": "code",
   "execution_count": 26,
   "id": "51fd47d0",
   "metadata": {},
   "outputs": [
    {
     "name": "stderr",
     "output_type": "stream",
     "text": [
      "/tmp/ipykernel_159/1568350563.py:3: FutureWarning: Downcasting behavior in `replace` is deprecated and will be removed in a future version. To retain the old behavior, explicitly call `result.infer_objects(copy=False)`. To opt-in to the future behavior, set `pd.set_option('future.no_silent_downcasting', True)`\n",
      "  df['category_num'] = df['category'].replace(dict(zip(categories, num_map)))\n"
     ]
    }
   ],
   "source": [
    "categories = sorted(df.category.unique())\n",
    "num_map = range(len(categories))\n",
    "df['category_num'] = df['category'].replace(dict(zip(categories, num_map)))\n",
    "\n",
    "train_data, test_data = train_test_split(df, test_size=0.2, stratify=df['category_num'])\n",
    "\n",
    "train_data.to_csv('../data/recording_paths_train.csv', index=False)\n",
    "test_data.to_csv('../data/recording_paths_test.csv', index=False)"
   ]
  },
  {
   "cell_type": "code",
   "execution_count": null,
   "id": "9dbdadfd",
   "metadata": {},
   "outputs": [],
   "source": []
  }
 ],
 "metadata": {
  "kernelspec": {
   "display_name": "Python 3 (ipykernel)",
   "language": "python",
   "name": "python3"
  },
  "language_info": {
   "codemirror_mode": {
    "name": "ipython",
    "version": 3
   },
   "file_extension": ".py",
   "mimetype": "text/x-python",
   "name": "python",
   "nbconvert_exporter": "python",
   "pygments_lexer": "ipython3",
   "version": "3.9.5"
  }
 },
 "nbformat": 4,
 "nbformat_minor": 5
}
