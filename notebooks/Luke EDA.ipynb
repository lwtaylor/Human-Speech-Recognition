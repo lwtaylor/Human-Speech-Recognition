{
 "cells": [
  {
   "cell_type": "markdown",
   "id": "c572434e",
   "metadata": {},
   "source": [
    "#### Goal: read files, run fourier transform, create some baseline model "
   ]
  },
  {
   "cell_type": "code",
   "execution_count": 1,
   "id": "344b8b96",
   "metadata": {},
   "outputs": [],
   "source": [
    "import numpy as np\n",
    "import torch\n",
    "import torchaudio\n",
    "import matplotlib.pyplot as plt\n",
    "import os\n",
    "\n",
    "import pandas as pd\n",
    "import librosa\n",
    "import soundfile as sf\n",
    "from IPython.display import Audio"
   ]
  },
  {
   "cell_type": "code",
   "execution_count": 2,
   "id": "c6c89649",
   "metadata": {},
   "outputs": [
    {
     "ename": "ValueError",
     "evalue": "4 columns passed, passed data had 3 columns",
     "output_type": "error",
     "traceback": [
      "\u001b[0;31m---------------------------------------------------------------------------\u001b[0m",
      "\u001b[0;31mAssertionError\u001b[0m                            Traceback (most recent call last)",
      "\u001b[0;32m/opt/conda/lib/python3.9/site-packages/pandas/core/internals/construction.py\u001b[0m in \u001b[0;36m_finalize_columns_and_data\u001b[0;34m(content, columns, dtype)\u001b[0m\n\u001b[1;32m    938\u001b[0m     \u001b[0;32mtry\u001b[0m\u001b[0;34m:\u001b[0m\u001b[0;34m\u001b[0m\u001b[0;34m\u001b[0m\u001b[0m\n\u001b[0;32m--> 939\u001b[0;31m         \u001b[0mcolumns\u001b[0m \u001b[0;34m=\u001b[0m \u001b[0m_validate_or_indexify_columns\u001b[0m\u001b[0;34m(\u001b[0m\u001b[0mcontents\u001b[0m\u001b[0;34m,\u001b[0m \u001b[0mcolumns\u001b[0m\u001b[0;34m)\u001b[0m\u001b[0;34m\u001b[0m\u001b[0;34m\u001b[0m\u001b[0m\n\u001b[0m\u001b[1;32m    940\u001b[0m     \u001b[0;32mexcept\u001b[0m \u001b[0mAssertionError\u001b[0m \u001b[0;32mas\u001b[0m \u001b[0merr\u001b[0m\u001b[0;34m:\u001b[0m\u001b[0;34m\u001b[0m\u001b[0;34m\u001b[0m\u001b[0m\n",
      "\u001b[0;32m/opt/conda/lib/python3.9/site-packages/pandas/core/internals/construction.py\u001b[0m in \u001b[0;36m_validate_or_indexify_columns\u001b[0;34m(content, columns)\u001b[0m\n\u001b[1;32m    985\u001b[0m             \u001b[0;31m# caller's responsibility to check for this...\u001b[0m\u001b[0;34m\u001b[0m\u001b[0;34m\u001b[0m\u001b[0;34m\u001b[0m\u001b[0m\n\u001b[0;32m--> 986\u001b[0;31m             raise AssertionError(\n\u001b[0m\u001b[1;32m    987\u001b[0m                 \u001b[0;34mf\"{len(columns)} columns passed, passed data had \"\u001b[0m\u001b[0;34m\u001b[0m\u001b[0;34m\u001b[0m\u001b[0m\n",
      "\u001b[0;31mAssertionError\u001b[0m: 4 columns passed, passed data had 3 columns",
      "\nThe above exception was the direct cause of the following exception:\n",
      "\u001b[0;31mValueError\u001b[0m                                Traceback (most recent call last)",
      "\u001b[0;32m/tmp/ipykernel_130/3893476911.py\u001b[0m in \u001b[0;36m<module>\u001b[0;34m\u001b[0m\n\u001b[1;32m      8\u001b[0m     \u001b[0mdf\u001b[0m \u001b[0;34m=\u001b[0m \u001b[0mpd\u001b[0m\u001b[0;34m.\u001b[0m\u001b[0mDataFrame\u001b[0m\u001b[0;34m(\u001b[0m\u001b[0maudio_fps\u001b[0m\u001b[0;34m,\u001b[0m \u001b[0mcolumns\u001b[0m\u001b[0;34m=\u001b[0m\u001b[0;34m[\u001b[0m\u001b[0;34m'filename'\u001b[0m\u001b[0;34m]\u001b[0m\u001b[0;34m)\u001b[0m\u001b[0;34m\u001b[0m\u001b[0;34m\u001b[0m\u001b[0m\n\u001b[1;32m      9\u001b[0m     \u001b[0mdf\u001b[0m\u001b[0;34m[\u001b[0m\u001b[0;34m'filename'\u001b[0m\u001b[0;34m]\u001b[0m \u001b[0;34m=\u001b[0m \u001b[0mdf\u001b[0m\u001b[0;34m[\u001b[0m\u001b[0;34m'filename'\u001b[0m\u001b[0;34m]\u001b[0m\u001b[0;34m.\u001b[0m\u001b[0mstr\u001b[0m\u001b[0;34m.\u001b[0m\u001b[0msplit\u001b[0m\u001b[0;34m(\u001b[0m\u001b[0;34m'_'\u001b[0m\u001b[0;34m)\u001b[0m\u001b[0;34m\u001b[0m\u001b[0;34m\u001b[0m\u001b[0m\n\u001b[0;32m---> 10\u001b[0;31m     \u001b[0mdf\u001b[0m \u001b[0;34m=\u001b[0m \u001b[0mpd\u001b[0m\u001b[0;34m.\u001b[0m\u001b[0mDataFrame\u001b[0m\u001b[0;34m(\u001b[0m\u001b[0mdf\u001b[0m\u001b[0;34m[\u001b[0m\u001b[0;34m'filename'\u001b[0m\u001b[0;34m]\u001b[0m\u001b[0;34m.\u001b[0m\u001b[0mtolist\u001b[0m\u001b[0;34m(\u001b[0m\u001b[0;34m)\u001b[0m\u001b[0;34m,\u001b[0m \u001b[0mcolumns\u001b[0m\u001b[0;34m=\u001b[0m\u001b[0;34m[\u001b[0m\u001b[0;34m'id'\u001b[0m\u001b[0;34m,\u001b[0m \u001b[0;34m'notsure'\u001b[0m\u001b[0;34m,\u001b[0m \u001b[0;34m'emotion'\u001b[0m\u001b[0;34m,\u001b[0m \u001b[0;34m'version'\u001b[0m\u001b[0;34m]\u001b[0m\u001b[0;34m)\u001b[0m\u001b[0;34m\u001b[0m\u001b[0;34m\u001b[0m\u001b[0m\n\u001b[0m",
      "\u001b[0;32m/opt/conda/lib/python3.9/site-packages/pandas/core/frame.py\u001b[0m in \u001b[0;36m__init__\u001b[0;34m(self, data, index, columns, dtype, copy)\u001b[0m\n\u001b[1;32m    838\u001b[0m                     \u001b[0;32mif\u001b[0m \u001b[0mcolumns\u001b[0m \u001b[0;32mis\u001b[0m \u001b[0;32mnot\u001b[0m \u001b[0;32mNone\u001b[0m\u001b[0;34m:\u001b[0m\u001b[0;34m\u001b[0m\u001b[0;34m\u001b[0m\u001b[0m\n\u001b[1;32m    839\u001b[0m                         \u001b[0mcolumns\u001b[0m \u001b[0;34m=\u001b[0m \u001b[0mensure_index\u001b[0m\u001b[0;34m(\u001b[0m\u001b[0mcolumns\u001b[0m\u001b[0;34m)\u001b[0m\u001b[0;34m\u001b[0m\u001b[0;34m\u001b[0m\u001b[0m\n\u001b[0;32m--> 840\u001b[0;31m                     arrays, columns, index = nested_data_to_arrays(\n\u001b[0m\u001b[1;32m    841\u001b[0m                         \u001b[0;31m# error: Argument 3 to \"nested_data_to_arrays\" has incompatible\u001b[0m\u001b[0;34m\u001b[0m\u001b[0;34m\u001b[0m\u001b[0;34m\u001b[0m\u001b[0m\n\u001b[1;32m    842\u001b[0m                         \u001b[0;31m# type \"Optional[Collection[Any]]\"; expected \"Optional[Index]\"\u001b[0m\u001b[0;34m\u001b[0m\u001b[0;34m\u001b[0m\u001b[0;34m\u001b[0m\u001b[0m\n",
      "\u001b[0;32m/opt/conda/lib/python3.9/site-packages/pandas/core/internals/construction.py\u001b[0m in \u001b[0;36mnested_data_to_arrays\u001b[0;34m(data, columns, index, dtype)\u001b[0m\n\u001b[1;32m    518\u001b[0m         \u001b[0mcolumns\u001b[0m \u001b[0;34m=\u001b[0m \u001b[0mensure_index\u001b[0m\u001b[0;34m(\u001b[0m\u001b[0mdata\u001b[0m\u001b[0;34m[\u001b[0m\u001b[0;36m0\u001b[0m\u001b[0;34m]\u001b[0m\u001b[0;34m.\u001b[0m\u001b[0m_fields\u001b[0m\u001b[0;34m)\u001b[0m\u001b[0;34m\u001b[0m\u001b[0;34m\u001b[0m\u001b[0m\n\u001b[1;32m    519\u001b[0m \u001b[0;34m\u001b[0m\u001b[0m\n\u001b[0;32m--> 520\u001b[0;31m     \u001b[0marrays\u001b[0m\u001b[0;34m,\u001b[0m \u001b[0mcolumns\u001b[0m \u001b[0;34m=\u001b[0m \u001b[0mto_arrays\u001b[0m\u001b[0;34m(\u001b[0m\u001b[0mdata\u001b[0m\u001b[0;34m,\u001b[0m \u001b[0mcolumns\u001b[0m\u001b[0;34m,\u001b[0m \u001b[0mdtype\u001b[0m\u001b[0;34m=\u001b[0m\u001b[0mdtype\u001b[0m\u001b[0;34m)\u001b[0m\u001b[0;34m\u001b[0m\u001b[0;34m\u001b[0m\u001b[0m\n\u001b[0m\u001b[1;32m    521\u001b[0m     \u001b[0mcolumns\u001b[0m \u001b[0;34m=\u001b[0m \u001b[0mensure_index\u001b[0m\u001b[0;34m(\u001b[0m\u001b[0mcolumns\u001b[0m\u001b[0;34m)\u001b[0m\u001b[0;34m\u001b[0m\u001b[0;34m\u001b[0m\u001b[0m\n\u001b[1;32m    522\u001b[0m \u001b[0;34m\u001b[0m\u001b[0m\n",
      "\u001b[0;32m/opt/conda/lib/python3.9/site-packages/pandas/core/internals/construction.py\u001b[0m in \u001b[0;36mto_arrays\u001b[0;34m(data, columns, dtype)\u001b[0m\n\u001b[1;32m    843\u001b[0m         \u001b[0marr\u001b[0m \u001b[0;34m=\u001b[0m \u001b[0m_list_to_arrays\u001b[0m\u001b[0;34m(\u001b[0m\u001b[0mdata\u001b[0m\u001b[0;34m)\u001b[0m\u001b[0;34m\u001b[0m\u001b[0;34m\u001b[0m\u001b[0m\n\u001b[1;32m    844\u001b[0m \u001b[0;34m\u001b[0m\u001b[0m\n\u001b[0;32m--> 845\u001b[0;31m     \u001b[0mcontent\u001b[0m\u001b[0;34m,\u001b[0m \u001b[0mcolumns\u001b[0m \u001b[0;34m=\u001b[0m \u001b[0m_finalize_columns_and_data\u001b[0m\u001b[0;34m(\u001b[0m\u001b[0marr\u001b[0m\u001b[0;34m,\u001b[0m \u001b[0mcolumns\u001b[0m\u001b[0;34m,\u001b[0m \u001b[0mdtype\u001b[0m\u001b[0;34m)\u001b[0m\u001b[0;34m\u001b[0m\u001b[0;34m\u001b[0m\u001b[0m\n\u001b[0m\u001b[1;32m    846\u001b[0m     \u001b[0;32mreturn\u001b[0m \u001b[0mcontent\u001b[0m\u001b[0;34m,\u001b[0m \u001b[0mcolumns\u001b[0m\u001b[0;34m\u001b[0m\u001b[0;34m\u001b[0m\u001b[0m\n\u001b[1;32m    847\u001b[0m \u001b[0;34m\u001b[0m\u001b[0m\n",
      "\u001b[0;32m/opt/conda/lib/python3.9/site-packages/pandas/core/internals/construction.py\u001b[0m in \u001b[0;36m_finalize_columns_and_data\u001b[0;34m(content, columns, dtype)\u001b[0m\n\u001b[1;32m    940\u001b[0m     \u001b[0;32mexcept\u001b[0m \u001b[0mAssertionError\u001b[0m \u001b[0;32mas\u001b[0m \u001b[0merr\u001b[0m\u001b[0;34m:\u001b[0m\u001b[0;34m\u001b[0m\u001b[0;34m\u001b[0m\u001b[0m\n\u001b[1;32m    941\u001b[0m         \u001b[0;31m# GH#26429 do not raise user-facing AssertionError\u001b[0m\u001b[0;34m\u001b[0m\u001b[0;34m\u001b[0m\u001b[0;34m\u001b[0m\u001b[0m\n\u001b[0;32m--> 942\u001b[0;31m         \u001b[0;32mraise\u001b[0m \u001b[0mValueError\u001b[0m\u001b[0;34m(\u001b[0m\u001b[0merr\u001b[0m\u001b[0;34m)\u001b[0m \u001b[0;32mfrom\u001b[0m \u001b[0merr\u001b[0m\u001b[0;34m\u001b[0m\u001b[0;34m\u001b[0m\u001b[0m\n\u001b[0m\u001b[1;32m    943\u001b[0m \u001b[0;34m\u001b[0m\u001b[0m\n\u001b[1;32m    944\u001b[0m     \u001b[0;32mif\u001b[0m \u001b[0mlen\u001b[0m\u001b[0;34m(\u001b[0m\u001b[0mcontents\u001b[0m\u001b[0;34m)\u001b[0m \u001b[0;32mand\u001b[0m \u001b[0mcontents\u001b[0m\u001b[0;34m[\u001b[0m\u001b[0;36m0\u001b[0m\u001b[0;34m]\u001b[0m\u001b[0;34m.\u001b[0m\u001b[0mdtype\u001b[0m \u001b[0;34m==\u001b[0m \u001b[0mnp\u001b[0m\u001b[0;34m.\u001b[0m\u001b[0mobject_\u001b[0m\u001b[0;34m:\u001b[0m\u001b[0;34m\u001b[0m\u001b[0;34m\u001b[0m\u001b[0m\n",
      "\u001b[0;31mValueError\u001b[0m: 4 columns passed, passed data had 3 columns"
     ]
    }
   ],
   "source": [
    "dataset_paths = os.listdir('../data')\n",
    "dataset_paths = [os.path.join('../data', path) for path in dataset_paths]\n",
    "\n",
    "dfs = [] # add data frames to this list\n",
    "for dataset_path in dataset_paths:\n",
    "    audio_fps = os.listdir(os.path.join('../data', dataset_path))\n",
    "    \n",
    "    df = pd.DataFrame(audio_fps, columns=['filename'])\n",
    "    df['filename'] = df['filename'].str.split('_')\n",
    "    df = pd.DataFrame(df['filename'].tolist(), columns=['id', 'notsure', 'emotion', 'version'])"
   ]
  },
  {
   "cell_type": "code",
   "execution_count": 11,
   "id": "7eca1d2f",
   "metadata": {},
   "outputs": [],
   "source": [
    "fps = os.listdir(dataset_paths[0])"
   ]
  },
  {
   "cell_type": "code",
   "execution_count": 16,
   "id": "3eeb5aa2",
   "metadata": {},
   "outputs": [
    {
     "data": {
      "text/plain": [
       "['Actor_17',\n",
       " 'Actor_04',\n",
       " 'Actor_03',\n",
       " 'Actor_09',\n",
       " 'Actor_22',\n",
       " 'Actor_10',\n",
       " 'Actor_14',\n",
       " 'Actor_07',\n",
       " 'Actor_21',\n",
       " 'Actor_13',\n",
       " 'Actor_19',\n",
       " 'Actor_23',\n",
       " 'Actor_11',\n",
       " 'Actor_08',\n",
       " 'Actor_02',\n",
       " 'Actor_05',\n",
       " 'Actor_16',\n",
       " 'Actor_24',\n",
       " 'Actor_20',\n",
       " 'Actor_18',\n",
       " 'Actor_12',\n",
       " 'Actor_01',\n",
       " 'Actor_06',\n",
       " 'Actor_15']"
      ]
     },
     "execution_count": 16,
     "metadata": {},
     "output_type": "execute_result"
    }
   ],
   "source": [
    "os.listdir(os.path.join(dataset_paths[0], fps[0]))"
   ]
  },
  {
   "cell_type": "code",
   "execution_count": 7,
   "id": "cead1cc6",
   "metadata": {},
   "outputs": [
    {
     "data": {
      "text/html": [
       "<div>\n",
       "<style scoped>\n",
       "    .dataframe tbody tr th:only-of-type {\n",
       "        vertical-align: middle;\n",
       "    }\n",
       "\n",
       "    .dataframe tbody tr th {\n",
       "        vertical-align: top;\n",
       "    }\n",
       "\n",
       "    .dataframe thead th {\n",
       "        text-align: right;\n",
       "    }\n",
       "</style>\n",
       "<table border=\"1\" class=\"dataframe\">\n",
       "  <thead>\n",
       "    <tr style=\"text-align: right;\">\n",
       "      <th></th>\n",
       "      <th>id</th>\n",
       "      <th>notsure</th>\n",
       "      <th>emotion</th>\n",
       "      <th>version</th>\n",
       "    </tr>\n",
       "  </thead>\n",
       "  <tbody>\n",
       "    <tr>\n",
       "      <th>0</th>\n",
       "      <td>1082</td>\n",
       "      <td>TSI</td>\n",
       "      <td>HAP</td>\n",
       "      <td>XX.wav</td>\n",
       "    </tr>\n",
       "    <tr>\n",
       "      <th>1</th>\n",
       "      <td>1024</td>\n",
       "      <td>IEO</td>\n",
       "      <td>HAP</td>\n",
       "      <td>HI.wav</td>\n",
       "    </tr>\n",
       "    <tr>\n",
       "      <th>2</th>\n",
       "      <td>1028</td>\n",
       "      <td>ITH</td>\n",
       "      <td>NEU</td>\n",
       "      <td>XX.wav</td>\n",
       "    </tr>\n",
       "    <tr>\n",
       "      <th>3</th>\n",
       "      <td>1020</td>\n",
       "      <td>MTI</td>\n",
       "      <td>NEU</td>\n",
       "      <td>XX.wav</td>\n",
       "    </tr>\n",
       "    <tr>\n",
       "      <th>4</th>\n",
       "      <td>1038</td>\n",
       "      <td>IEO</td>\n",
       "      <td>ANG</td>\n",
       "      <td>MD.wav</td>\n",
       "    </tr>\n",
       "    <tr>\n",
       "      <th>...</th>\n",
       "      <td>...</td>\n",
       "      <td>...</td>\n",
       "      <td>...</td>\n",
       "      <td>...</td>\n",
       "    </tr>\n",
       "    <tr>\n",
       "      <th>7437</th>\n",
       "      <td>1070</td>\n",
       "      <td>IWW</td>\n",
       "      <td>ANG</td>\n",
       "      <td>XX.wav</td>\n",
       "    </tr>\n",
       "    <tr>\n",
       "      <th>7438</th>\n",
       "      <td>1072</td>\n",
       "      <td>ITH</td>\n",
       "      <td>HAP</td>\n",
       "      <td>XX.wav</td>\n",
       "    </tr>\n",
       "    <tr>\n",
       "      <th>7439</th>\n",
       "      <td>1065</td>\n",
       "      <td>TAI</td>\n",
       "      <td>DIS</td>\n",
       "      <td>XX.wav</td>\n",
       "    </tr>\n",
       "    <tr>\n",
       "      <th>7440</th>\n",
       "      <td>1064</td>\n",
       "      <td>MTI</td>\n",
       "      <td>HAP</td>\n",
       "      <td>XX.wav</td>\n",
       "    </tr>\n",
       "    <tr>\n",
       "      <th>7441</th>\n",
       "      <td>1010</td>\n",
       "      <td>TIE</td>\n",
       "      <td>HAP</td>\n",
       "      <td>XX.wav</td>\n",
       "    </tr>\n",
       "  </tbody>\n",
       "</table>\n",
       "<p>7442 rows × 4 columns</p>\n",
       "</div>"
      ],
      "text/plain": [
       "        id notsure emotion version\n",
       "0     1082     TSI     HAP  XX.wav\n",
       "1     1024     IEO     HAP  HI.wav\n",
       "2     1028     ITH     NEU  XX.wav\n",
       "3     1020     MTI     NEU  XX.wav\n",
       "4     1038     IEO     ANG  MD.wav\n",
       "...    ...     ...     ...     ...\n",
       "7437  1070     IWW     ANG  XX.wav\n",
       "7438  1072     ITH     HAP  XX.wav\n",
       "7439  1065     TAI     DIS  XX.wav\n",
       "7440  1064     MTI     HAP  XX.wav\n",
       "7441  1010     TIE     HAP  XX.wav\n",
       "\n",
       "[7442 rows x 4 columns]"
      ]
     },
     "execution_count": 7,
     "metadata": {},
     "output_type": "execute_result"
    }
   ],
   "source": [
    "crema = pd.DataFrame(crema_fps, columns=['filename'])\n",
    "crema['filename'] = crema['filename'].str.split('_')\n",
    "crema = pd.DataFrame(crema['filename'].tolist(), columns=['id', 'notsure', 'emotion', 'version'])\n",
    "crema"
   ]
  },
  {
   "cell_type": "code",
   "execution_count": 24,
   "id": "8ed4063b",
   "metadata": {},
   "outputs": [
    {
     "data": {
      "text/plain": [
       "['../data/Ravdess', '../data/Tess', '../data/Crema', '../data/Savee']"
      ]
     },
     "execution_count": 24,
     "metadata": {},
     "output_type": "execute_result"
    }
   ],
   "source": [
    "dataset_paths"
   ]
  },
  {
   "cell_type": "code",
   "execution_count": 18,
   "id": "57280b38",
   "metadata": {},
   "outputs": [
    {
     "ename": "NotADirectoryError",
     "evalue": "[Errno 20] Not a directory: '../data/Crema/1082_TSI_HAP_XX.wav'",
     "output_type": "error",
     "traceback": [
      "\u001b[0;31m---------------------------------------------------------------------------\u001b[0m",
      "\u001b[0;31mNotADirectoryError\u001b[0m                        Traceback (most recent call last)",
      "\u001b[0;32m/tmp/ipykernel_108/436849008.py\u001b[0m in \u001b[0;36m<module>\u001b[0;34m\u001b[0m\n\u001b[0;32m----> 1\u001b[0;31m \u001b[0mos\u001b[0m\u001b[0;34m.\u001b[0m\u001b[0mlistdir\u001b[0m\u001b[0;34m(\u001b[0m\u001b[0;34m'../data/Crema/1082_TSI_HAP_XX.wav'\u001b[0m\u001b[0;34m)\u001b[0m\u001b[0;34m\u001b[0m\u001b[0;34m\u001b[0m\u001b[0m\n\u001b[0m",
      "\u001b[0;31mNotADirectoryError\u001b[0m: [Errno 20] Not a directory: '../data/Crema/1082_TSI_HAP_XX.wav'"
     ]
    }
   ],
   "source": [
    "os.listdir('../data/Crema/1082_TSI_HAP_XX.wav')"
   ]
  },
  {
   "cell_type": "markdown",
   "id": "62e16ac0",
   "metadata": {},
   "source": [
    "# Let's break down each data set that we have: Crema, Ravdess, Tess, and Savee so that we have some context on what we are dealing with "
   ]
  },
  {
   "cell_type": "code",
   "execution_count": 3,
   "id": "6d862a30",
   "metadata": {},
   "outputs": [],
   "source": [
    "dataset_paths = os.listdir('../data')\n",
    "dataset_paths = [os.path.join('../data', path) for path in dataset_paths]"
   ]
  },
  {
   "cell_type": "code",
   "execution_count": 4,
   "id": "553cd858",
   "metadata": {},
   "outputs": [],
   "source": [
    "def create_paths(path):\n",
    "    sub_dirs = os.listdir(path)\n",
    "    \n",
    "    concatenated_dirs = list()\n",
    "    for sub_dir in sub_dirs:\n",
    "        concatenated_dirs.append(os.path.join(path, sub_dir))\n",
    "    \n",
    "    return concatenated_dirs"
   ]
  },
  {
   "cell_type": "code",
   "execution_count": 5,
   "id": "8ca85566",
   "metadata": {},
   "outputs": [],
   "source": [
    "tess_audio_paths = []\n",
    "for path in create_paths('../data/Tess'):\n",
    "    pths = create_paths(path)\n",
    "    \n",
    "    tess_audio_paths = tess_audio_paths + pths"
   ]
  },
  {
   "cell_type": "code",
   "execution_count": 6,
   "id": "b2d80306",
   "metadata": {},
   "outputs": [],
   "source": [
    "crema_audio_paths = create_paths('../data/Crema')"
   ]
  },
  {
   "cell_type": "code",
   "execution_count": 7,
   "id": "b0a89305",
   "metadata": {},
   "outputs": [],
   "source": [
    "savee_audio_paths = create_paths('../data/Savee')"
   ]
  },
  {
   "cell_type": "code",
   "execution_count": 8,
   "id": "4ae7badb",
   "metadata": {},
   "outputs": [],
   "source": [
    "ravdess_audio_paths = list()\n",
    "for actor_dir in create_paths('../data/Ravdess/audio_speech_actors_01-24'):\n",
    "    ravdess_audio_paths = ravdess_audio_paths + create_paths(actor_dir)"
   ]
  },
  {
   "cell_type": "code",
   "execution_count": 9,
   "id": "aee85160",
   "metadata": {},
   "outputs": [
    {
     "name": "stdout",
     "output_type": "stream",
     "text": [
      "Number Tess Audio Files: 2800\n",
      "Number Crema Audio Files: 7442\n",
      "Number Savee Audio Files: 480\n",
      "Number Ravdess Audio Files 1440\n"
     ]
    }
   ],
   "source": [
    "print('Number Tess Audio Files:', len(tess_audio_paths))\n",
    "print('Number Crema Audio Files:', len(crema_audio_paths))\n",
    "print('Number Savee Audio Files:', len(savee_audio_paths))\n",
    "print('Number Ravdess Audio Files', len(ravdess_audio_paths))"
   ]
  },
  {
   "cell_type": "code",
   "execution_count": 6,
   "id": "cab85d73",
   "metadata": {},
   "outputs": [
    {
     "data": {
      "text/plain": [
       "'XX.wav'"
      ]
     },
     "execution_count": 6,
     "metadata": {},
     "output_type": "execute_result"
    }
   ],
   "source": [
    "crema.iloc[0, 3]"
   ]
  },
  {
   "cell_type": "code",
   "execution_count": 10,
   "id": "575c6dec",
   "metadata": {},
   "outputs": [
    {
     "data": {
      "text/html": [
       "<div>\n",
       "<style scoped>\n",
       "    .dataframe tbody tr th:only-of-type {\n",
       "        vertical-align: middle;\n",
       "    }\n",
       "\n",
       "    .dataframe tbody tr th {\n",
       "        vertical-align: top;\n",
       "    }\n",
       "\n",
       "    .dataframe thead th {\n",
       "        text-align: right;\n",
       "    }\n",
       "</style>\n",
       "<table border=\"1\" class=\"dataframe\">\n",
       "  <thead>\n",
       "    <tr style=\"text-align: right;\">\n",
       "      <th></th>\n",
       "      <th>id</th>\n",
       "      <th>notsure</th>\n",
       "      <th>emotion</th>\n",
       "      <th>version</th>\n",
       "      <th>filename</th>\n",
       "    </tr>\n",
       "  </thead>\n",
       "  <tbody>\n",
       "    <tr>\n",
       "      <th>0</th>\n",
       "      <td>1082</td>\n",
       "      <td>TSI</td>\n",
       "      <td>HAP</td>\n",
       "      <td>XX.wav</td>\n",
       "      <td>1082_TSI_HAP_XX.wav</td>\n",
       "    </tr>\n",
       "    <tr>\n",
       "      <th>1</th>\n",
       "      <td>1024</td>\n",
       "      <td>IEO</td>\n",
       "      <td>HAP</td>\n",
       "      <td>HI.wav</td>\n",
       "      <td>1024_IEO_HAP_HI.wav</td>\n",
       "    </tr>\n",
       "    <tr>\n",
       "      <th>2</th>\n",
       "      <td>1028</td>\n",
       "      <td>ITH</td>\n",
       "      <td>NEU</td>\n",
       "      <td>XX.wav</td>\n",
       "      <td>1028_ITH_NEU_XX.wav</td>\n",
       "    </tr>\n",
       "    <tr>\n",
       "      <th>3</th>\n",
       "      <td>1020</td>\n",
       "      <td>MTI</td>\n",
       "      <td>NEU</td>\n",
       "      <td>XX.wav</td>\n",
       "      <td>1020_MTI_NEU_XX.wav</td>\n",
       "    </tr>\n",
       "    <tr>\n",
       "      <th>4</th>\n",
       "      <td>1038</td>\n",
       "      <td>IEO</td>\n",
       "      <td>ANG</td>\n",
       "      <td>MD.wav</td>\n",
       "      <td>1038_IEO_ANG_MD.wav</td>\n",
       "    </tr>\n",
       "    <tr>\n",
       "      <th>...</th>\n",
       "      <td>...</td>\n",
       "      <td>...</td>\n",
       "      <td>...</td>\n",
       "      <td>...</td>\n",
       "      <td>...</td>\n",
       "    </tr>\n",
       "    <tr>\n",
       "      <th>7437</th>\n",
       "      <td>1070</td>\n",
       "      <td>IWW</td>\n",
       "      <td>ANG</td>\n",
       "      <td>XX.wav</td>\n",
       "      <td>1070_IWW_ANG_XX.wav</td>\n",
       "    </tr>\n",
       "    <tr>\n",
       "      <th>7438</th>\n",
       "      <td>1072</td>\n",
       "      <td>ITH</td>\n",
       "      <td>HAP</td>\n",
       "      <td>XX.wav</td>\n",
       "      <td>1072_ITH_HAP_XX.wav</td>\n",
       "    </tr>\n",
       "    <tr>\n",
       "      <th>7439</th>\n",
       "      <td>1065</td>\n",
       "      <td>TAI</td>\n",
       "      <td>DIS</td>\n",
       "      <td>XX.wav</td>\n",
       "      <td>1065_TAI_DIS_XX.wav</td>\n",
       "    </tr>\n",
       "    <tr>\n",
       "      <th>7440</th>\n",
       "      <td>1064</td>\n",
       "      <td>MTI</td>\n",
       "      <td>HAP</td>\n",
       "      <td>XX.wav</td>\n",
       "      <td>1064_MTI_HAP_XX.wav</td>\n",
       "    </tr>\n",
       "    <tr>\n",
       "      <th>7441</th>\n",
       "      <td>1010</td>\n",
       "      <td>TIE</td>\n",
       "      <td>HAP</td>\n",
       "      <td>XX.wav</td>\n",
       "      <td>1010_TIE_HAP_XX.wav</td>\n",
       "    </tr>\n",
       "  </tbody>\n",
       "</table>\n",
       "<p>7442 rows × 5 columns</p>\n",
       "</div>"
      ],
      "text/plain": [
       "        id notsure emotion version             filename\n",
       "0     1082     TSI     HAP  XX.wav  1082_TSI_HAP_XX.wav\n",
       "1     1024     IEO     HAP  HI.wav  1024_IEO_HAP_HI.wav\n",
       "2     1028     ITH     NEU  XX.wav  1028_ITH_NEU_XX.wav\n",
       "3     1020     MTI     NEU  XX.wav  1020_MTI_NEU_XX.wav\n",
       "4     1038     IEO     ANG  MD.wav  1038_IEO_ANG_MD.wav\n",
       "...    ...     ...     ...     ...                  ...\n",
       "7437  1070     IWW     ANG  XX.wav  1070_IWW_ANG_XX.wav\n",
       "7438  1072     ITH     HAP  XX.wav  1072_ITH_HAP_XX.wav\n",
       "7439  1065     TAI     DIS  XX.wav  1065_TAI_DIS_XX.wav\n",
       "7440  1064     MTI     HAP  XX.wav  1064_MTI_HAP_XX.wav\n",
       "7441  1010     TIE     HAP  XX.wav  1010_TIE_HAP_XX.wav\n",
       "\n",
       "[7442 rows x 5 columns]"
      ]
     },
     "execution_count": 10,
     "metadata": {},
     "output_type": "execute_result"
    }
   ],
   "source": [
    "crema"
   ]
  },
  {
   "cell_type": "code",
   "execution_count": 11,
   "id": "f3b88adf",
   "metadata": {},
   "outputs": [
    {
     "name": "stdout",
     "output_type": "stream",
     "text": [
      "HAP\n"
     ]
    }
   ],
   "source": [
    "i = 1# choose a row of the data frame\n",
    "print(crema.iloc[i]['emotion'])\n",
    "audio_path = os.path.join('..', 'data', 'Crema', crema['filename'].iloc[i])  # Replace with the path to your audio file\n",
    "audio, sample_rate = librosa.load(audio_path, sr=None)"
   ]
  },
  {
   "cell_type": "code",
   "execution_count": 12,
   "id": "911318f0",
   "metadata": {},
   "outputs": [
    {
     "data": {
      "text/html": [
       "\n",
       "                <audio  controls=\"controls\" >\n",
       "                    <source src=\"data:audio/wav;base64,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\" type=\"audio/wav\" />\n",
       "                    Your browser does not support the audio element.\n",
       "                </audio>\n",
       "              "
      ],
      "text/plain": [
       "<IPython.lib.display.Audio object>"
      ]
     },
     "execution_count": 12,
     "metadata": {},
     "output_type": "execute_result"
    }
   ],
   "source": [
    "Audio(data=audio, rate=sample_rate)\n"
   ]
  },
  {
   "cell_type": "code",
   "execution_count": 13,
   "id": "381fb575",
   "metadata": {},
   "outputs": [
    {
     "data": {
      "text/plain": [
       "(array(['ANG', 'DIS', 'FEA', 'HAP', 'NEU', 'SAD'], dtype=object),\n",
       " array([1271, 1271, 1271, 1271, 1087, 1271]))"
      ]
     },
     "execution_count": 13,
     "metadata": {},
     "output_type": "execute_result"
    }
   ],
   "source": [
    "np.unique(crema['emotion'], return_counts=True)"
   ]
  },
  {
   "cell_type": "code",
   "execution_count": 14,
   "id": "990549fd",
   "metadata": {},
   "outputs": [
    {
     "data": {
      "text/plain": [
       "(array(['HI.wav', 'LO.wav', 'MD.wav', 'X.wav', 'XX.wav'], dtype=object),\n",
       " array([ 455,  455,  455,    1, 6076]))"
      ]
     },
     "execution_count": 14,
     "metadata": {},
     "output_type": "execute_result"
    }
   ],
   "source": [
    "np.unique(crema['version'], return_counts=True)"
   ]
  },
  {
   "cell_type": "code",
   "execution_count": 15,
   "id": "bdd64ccf",
   "metadata": {},
   "outputs": [],
   "source": [
    "waveforms = []\n",
    "sample_rates = []\n",
    "for file in crema_fps:\n",
    "    PATH = os.path.join('..', 'data', 'Crema', file)\n",
    "    waveform, sample_rate = torchaudio.load(PATH)\n",
    "    waveforms.append(waveform)\n",
    "    sample_rates.append(sample_rate)"
   ]
  },
  {
   "cell_type": "code",
   "execution_count": 16,
   "id": "a5da7ca7",
   "metadata": {},
   "outputs": [],
   "source": [
    "means = []\n",
    "spikes_data = []\n",
    "frequencies_data = []\n",
    "for i in range(len(waveforms)):\n",
    "    wf = waveforms[i]\n",
    "    sample_rate = sample_rates[i]\n",
    "    wv_arr = wf.numpy()[0]\n",
    "    \n",
    "    fft = np.fft.fft(wv_arr, norm='ortho')\n",
    "    fs_shifted = np.linspace(-len(fft) // 2, len(fft) // 2, len(fft)) * sample_rate / len(fft)\n",
    "    spikes = np.abs(np.fft.fftshift(fft))[len(fs_shifted)//2:]\n",
    "    spikes_data.append(spikes)\n",
    "    frequencies_data.append(fs_shifted[len(fs_shifted)//2:])\n",
    "    means.append(np.mean(spikes))"
   ]
  },
  {
   "cell_type": "code",
   "execution_count": 17,
   "id": "138afc49",
   "metadata": {},
   "outputs": [],
   "source": [
    "out = []\n",
    "for i in range(len(spikes_data)):\n",
    "    a = np.array(spikes_data[i])\n",
    "    b = np.array(frequencies_data[i])\n",
    "    out.append(np.mean(a * b))"
   ]
  },
  {
   "cell_type": "code",
   "execution_count": 18,
   "id": "1eb876b5",
   "metadata": {},
   "outputs": [],
   "source": [
    "crema['mean'] = means"
   ]
  },
  {
   "cell_type": "code",
   "execution_count": 19,
   "id": "937c044d",
   "metadata": {},
   "outputs": [
    {
     "ename": "KeyError",
     "evalue": "''",
     "output_type": "error",
     "traceback": [
      "\u001b[0;31m---------------------------------------------------------------------------\u001b[0m",
      "\u001b[0;31mKeyError\u001b[0m                                  Traceback (most recent call last)",
      "\u001b[0;32m/opt/conda/lib/python3.9/site-packages/pandas/core/indexes/base.py\u001b[0m in \u001b[0;36mget_loc\u001b[0;34m(self, key)\u001b[0m\n\u001b[1;32m   3801\u001b[0m         \u001b[0;32mtry\u001b[0m\u001b[0;34m:\u001b[0m\u001b[0;34m\u001b[0m\u001b[0;34m\u001b[0m\u001b[0m\n\u001b[0;32m-> 3802\u001b[0;31m             \u001b[0;32mreturn\u001b[0m \u001b[0mself\u001b[0m\u001b[0;34m.\u001b[0m\u001b[0m_engine\u001b[0m\u001b[0;34m.\u001b[0m\u001b[0mget_loc\u001b[0m\u001b[0;34m(\u001b[0m\u001b[0mcasted_key\u001b[0m\u001b[0;34m)\u001b[0m\u001b[0;34m\u001b[0m\u001b[0;34m\u001b[0m\u001b[0m\n\u001b[0m\u001b[1;32m   3803\u001b[0m         \u001b[0;32mexcept\u001b[0m \u001b[0mKeyError\u001b[0m \u001b[0;32mas\u001b[0m \u001b[0merr\u001b[0m\u001b[0;34m:\u001b[0m\u001b[0;34m\u001b[0m\u001b[0;34m\u001b[0m\u001b[0m\n",
      "\u001b[0;32mindex.pyx\u001b[0m in \u001b[0;36mpandas._libs.index.IndexEngine.get_loc\u001b[0;34m()\u001b[0m\n",
      "\u001b[0;32mindex.pyx\u001b[0m in \u001b[0;36mpandas._libs.index.IndexEngine.get_loc\u001b[0;34m()\u001b[0m\n",
      "\u001b[0;32mpandas/_libs/hashtable_class_helper.pxi\u001b[0m in \u001b[0;36mpandas._libs.hashtable.PyObjectHashTable.get_item\u001b[0;34m()\u001b[0m\n",
      "\u001b[0;32mpandas/_libs/hashtable_class_helper.pxi\u001b[0m in \u001b[0;36mpandas._libs.hashtable.PyObjectHashTable.get_item\u001b[0;34m()\u001b[0m\n",
      "\u001b[0;31mKeyError\u001b[0m: ''",
      "\nThe above exception was the direct cause of the following exception:\n",
      "\u001b[0;31mKeyError\u001b[0m                                  Traceback (most recent call last)",
      "\u001b[0;32m/tmp/ipykernel_106/1454298671.py\u001b[0m in \u001b[0;36m<module>\u001b[0;34m\u001b[0m\n\u001b[0;32m----> 1\u001b[0;31m \u001b[0mcrema\u001b[0m\u001b[0;34m[\u001b[0m\u001b[0;34m''\u001b[0m\u001b[0;34m]\u001b[0m\u001b[0;34m\u001b[0m\u001b[0;34m\u001b[0m\u001b[0m\n\u001b[0m",
      "\u001b[0;32m/opt/conda/lib/python3.9/site-packages/pandas/core/frame.py\u001b[0m in \u001b[0;36m__getitem__\u001b[0;34m(self, key)\u001b[0m\n\u001b[1;32m   4088\u001b[0m             \u001b[0;32mif\u001b[0m \u001b[0mself\u001b[0m\u001b[0;34m.\u001b[0m\u001b[0mcolumns\u001b[0m\u001b[0;34m.\u001b[0m\u001b[0mnlevels\u001b[0m \u001b[0;34m>\u001b[0m \u001b[0;36m1\u001b[0m\u001b[0;34m:\u001b[0m\u001b[0;34m\u001b[0m\u001b[0;34m\u001b[0m\u001b[0m\n\u001b[1;32m   4089\u001b[0m                 \u001b[0;32mreturn\u001b[0m \u001b[0mself\u001b[0m\u001b[0;34m.\u001b[0m\u001b[0m_getitem_multilevel\u001b[0m\u001b[0;34m(\u001b[0m\u001b[0mkey\u001b[0m\u001b[0;34m)\u001b[0m\u001b[0;34m\u001b[0m\u001b[0;34m\u001b[0m\u001b[0m\n\u001b[0;32m-> 4090\u001b[0;31m             \u001b[0mindexer\u001b[0m \u001b[0;34m=\u001b[0m \u001b[0mself\u001b[0m\u001b[0;34m.\u001b[0m\u001b[0mcolumns\u001b[0m\u001b[0;34m.\u001b[0m\u001b[0mget_loc\u001b[0m\u001b[0;34m(\u001b[0m\u001b[0mkey\u001b[0m\u001b[0;34m)\u001b[0m\u001b[0;34m\u001b[0m\u001b[0;34m\u001b[0m\u001b[0m\n\u001b[0m\u001b[1;32m   4091\u001b[0m             \u001b[0;32mif\u001b[0m \u001b[0mis_integer\u001b[0m\u001b[0;34m(\u001b[0m\u001b[0mindexer\u001b[0m\u001b[0;34m)\u001b[0m\u001b[0;34m:\u001b[0m\u001b[0;34m\u001b[0m\u001b[0;34m\u001b[0m\u001b[0m\n\u001b[1;32m   4092\u001b[0m                 \u001b[0mindexer\u001b[0m \u001b[0;34m=\u001b[0m \u001b[0;34m[\u001b[0m\u001b[0mindexer\u001b[0m\u001b[0;34m]\u001b[0m\u001b[0;34m\u001b[0m\u001b[0;34m\u001b[0m\u001b[0m\n",
      "\u001b[0;32m/opt/conda/lib/python3.9/site-packages/pandas/core/indexes/base.py\u001b[0m in \u001b[0;36mget_loc\u001b[0;34m(self, key)\u001b[0m\n\u001b[1;32m   3807\u001b[0m             ):\n\u001b[1;32m   3808\u001b[0m                 \u001b[0;32mraise\u001b[0m \u001b[0mInvalidIndexError\u001b[0m\u001b[0;34m(\u001b[0m\u001b[0mkey\u001b[0m\u001b[0;34m)\u001b[0m\u001b[0;34m\u001b[0m\u001b[0;34m\u001b[0m\u001b[0m\n\u001b[0;32m-> 3809\u001b[0;31m             \u001b[0;32mraise\u001b[0m \u001b[0mKeyError\u001b[0m\u001b[0;34m(\u001b[0m\u001b[0mkey\u001b[0m\u001b[0;34m)\u001b[0m \u001b[0;32mfrom\u001b[0m \u001b[0merr\u001b[0m\u001b[0;34m\u001b[0m\u001b[0;34m\u001b[0m\u001b[0m\n\u001b[0m\u001b[1;32m   3810\u001b[0m         \u001b[0;32mexcept\u001b[0m \u001b[0mTypeError\u001b[0m\u001b[0;34m:\u001b[0m\u001b[0;34m\u001b[0m\u001b[0;34m\u001b[0m\u001b[0m\n\u001b[1;32m   3811\u001b[0m             \u001b[0;31m# If we have a listlike key, _check_indexing_error will raise\u001b[0m\u001b[0;34m\u001b[0m\u001b[0;34m\u001b[0m\u001b[0;34m\u001b[0m\u001b[0m\n",
      "\u001b[0;31mKeyError\u001b[0m: ''"
     ]
    }
   ],
   "source": [
    "crema['']"
   ]
  },
  {
   "cell_type": "code",
   "execution_count": null,
   "id": "48f4a310",
   "metadata": {},
   "outputs": [],
   "source": [
    "crema[crema['emotion'] == 'ANG'].plot(kind='hist')"
   ]
  },
  {
   "cell_type": "code",
   "execution_count": null,
   "id": "a7caa387",
   "metadata": {},
   "outputs": [],
   "source": [
    "crema[crema['emotion'] == 'HAP'].plot(kind='hist')"
   ]
  },
  {
   "cell_type": "code",
   "execution_count": null,
   "id": "be80819a",
   "metadata": {},
   "outputs": [],
   "source": [
    "crema[crema['emotion'] == 'NEU'].plot(kind='hist')"
   ]
  },
  {
   "cell_type": "code",
   "execution_count": null,
   "id": "6b729df4",
   "metadata": {},
   "outputs": [],
   "source": [
    "crema[crema['emotion'] == 'DIS'].plot(kind='hist')"
   ]
  },
  {
   "cell_type": "code",
   "execution_count": null,
   "id": "10ad9135",
   "metadata": {},
   "outputs": [],
   "source": [
    "crema[crema['emotion'] == 'FEA'].plot(kind='hist')"
   ]
  },
  {
   "cell_type": "code",
   "execution_count": null,
   "id": "94843a85",
   "metadata": {},
   "outputs": [],
   "source": [
    "crema[crema['emotion'] == 'SAD'].plot(kind='hist')"
   ]
  },
  {
   "cell_type": "code",
   "execution_count": null,
   "id": "d193a1c3",
   "metadata": {},
   "outputs": [],
   "source": [
    "# KNN model in time space and fourier space \n",
    "# index the frequencies with magnitudes \n",
    "# make some vector based off of the fourier transforms cluster and stuff \n",
    "\n",
    "# learn spectograms and short term fourier transforms !!!"
   ]
  },
  {
   "cell_type": "code",
   "execution_count": null,
   "id": "df14f8e5",
   "metadata": {},
   "outputs": [],
   "source": []
  }
 ],
 "metadata": {
  "kernelspec": {
   "display_name": "Python 3 (ipykernel)",
   "language": "python",
   "name": "python3"
  },
  "language_info": {
   "codemirror_mode": {
    "name": "ipython",
    "version": 3
   },
   "file_extension": ".py",
   "mimetype": "text/x-python",
   "name": "python",
   "nbconvert_exporter": "python",
   "pygments_lexer": "ipython3",
   "version": "3.9.5"
  }
 },
 "nbformat": 4,
 "nbformat_minor": 5
}
