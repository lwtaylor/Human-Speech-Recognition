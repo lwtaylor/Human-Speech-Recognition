{
 "cells": [
  {
   "cell_type": "code",
   "execution_count": 7,
   "id": "083ca355",
   "metadata": {},
   "outputs": [],
   "source": [
    "import numpy as np\n",
    "import torch\n",
    "import torchaudio\n",
    "import matplotlib.pyplot as plt\n",
    "import pandas as pd\n",
    "import plotly.express as px\n",
    "import plotly.graph_objs as go\n",
    "import os"
   ]
  },
  {
   "cell_type": "code",
   "execution_count": 8,
   "id": "2ff76740",
   "metadata": {},
   "outputs": [
    {
     "data": {
      "text/html": [
       "<div>\n",
       "<style scoped>\n",
       "    .dataframe tbody tr th:only-of-type {\n",
       "        vertical-align: middle;\n",
       "    }\n",
       "\n",
       "    .dataframe tbody tr th {\n",
       "        vertical-align: top;\n",
       "    }\n",
       "\n",
       "    .dataframe thead th {\n",
       "        text-align: right;\n",
       "    }\n",
       "</style>\n",
       "<table border=\"1\" class=\"dataframe\">\n",
       "  <thead>\n",
       "    <tr style=\"text-align: right;\">\n",
       "      <th></th>\n",
       "      <th>filename</th>\n",
       "      <th>category</th>\n",
       "    </tr>\n",
       "  </thead>\n",
       "  <tbody>\n",
       "    <tr>\n",
       "      <th>0</th>\n",
       "      <td>1028_ITS_ANG_XX.wav</td>\n",
       "      <td>ANG</td>\n",
       "    </tr>\n",
       "    <tr>\n",
       "      <th>1</th>\n",
       "      <td>1065_WSI_ANG_XX.wav</td>\n",
       "      <td>ANG</td>\n",
       "    </tr>\n",
       "    <tr>\n",
       "      <th>2</th>\n",
       "      <td>1014_IOM_ANG_XX.wav</td>\n",
       "      <td>ANG</td>\n",
       "    </tr>\n",
       "    <tr>\n",
       "      <th>3</th>\n",
       "      <td>1034_IWL_HAP_XX.wav</td>\n",
       "      <td>HAP</td>\n",
       "    </tr>\n",
       "    <tr>\n",
       "      <th>4</th>\n",
       "      <td>1005_DFA_HAP_XX.wav</td>\n",
       "      <td>HAP</td>\n",
       "    </tr>\n",
       "  </tbody>\n",
       "</table>\n",
       "</div>"
      ],
      "text/plain": [
       "              filename category\n",
       "0  1028_ITS_ANG_XX.wav      ANG\n",
       "1  1065_WSI_ANG_XX.wav      ANG\n",
       "2  1014_IOM_ANG_XX.wav      ANG\n",
       "3  1034_IWL_HAP_XX.wav      HAP\n",
       "4  1005_DFA_HAP_XX.wav      HAP"
      ]
     },
     "execution_count": 8,
     "metadata": {},
     "output_type": "execute_result"
    }
   ],
   "source": [
    "df = pd.DataFrame()\n",
    "df['filename'] = pd.Series(os.listdir('../data/Crema'))\n",
    "df['category'] = df['filename'].str.extract(r'\\d+_[A-Z]{3}_([A-Z]{3})_[A-Z]+.wav')\n",
    "\n",
    "df.head()"
   ]
  },
  {
   "cell_type": "code",
   "execution_count": 22,
   "id": "12c0ab7c",
   "metadata": {},
   "outputs": [],
   "source": [
    "def wav_to_numpy(filename):\n",
    "    path = os.path.join('..', 'data', 'Crema', filename)\n",
    "    waveform, sample_rate = torchaudio.load(path)\n",
    "    waveform = waveform.numpy()[0] \n",
    "    \n",
    "    return waveform, sample_rate"
   ]
  },
  {
   "cell_type": "code",
   "execution_count": 23,
   "id": "2cccceb6",
   "metadata": {},
   "outputs": [],
   "source": [
    "def plot_fft(filename):\n",
    "    waveform, sample_rate = wav_to_numpy(filename)\n",
    "    \n",
    "    fft = np.fft.fft(waveform, norm='ortho')\n",
    "    fs_shifted = np.linspace(-len(fft) // 2, len(fft) // 2, len(fft)) * sample_rate / len(fft)\n",
    "\n",
    "    plt.plot(fs_shifted, np.abs(np.fft.fftshift(fft)))\n",
    "    plt.show() "
   ]
  },
  {
   "cell_type": "code",
   "execution_count": 24,
   "id": "2aac4d2e",
   "metadata": {},
   "outputs": [
    {
     "data": {
      "image/png": "[encoded data removed]",
      "text/plain": [
       "<Figure size 432x288 with 1 Axes>"
      ]
     },
     "metadata": {
      "needs_background": "light"
     },
     "output_type": "display_data"
    }
   ],
   "source": [
    "plot_fft('1028_ITS_ANG_XX.wav')"
   ]
  },
  {
   "cell_type": "code",
   "execution_count": 34,
   "id": "8b8d9b19",
   "metadata": {},
   "outputs": [],
   "source": [
    "ffts = []\n",
    "for index, row in df.iterrows():\n",
    "    waveform, _ = wav_to_numpy(row.filename)\n",
    "    fft = np.fft.fft(waveform, norm='ortho')\n",
    "    \n",
    "    ffts.append(np.abs(np.fft.fftshift(fft))[len(fft) // 2 - 10000: len(fft) // 2 + 10000])"
   ]
  },
  {
   "cell_type": "code",
   "execution_count": 42,
   "id": "b61c2574",
   "metadata": {},
   "outputs": [
    {
     "data": {
      "text/plain": [
       "[<matplotlib.lines.Line2D at 0x7f70f470dc70>]"
      ]
     },
     "execution_count": 42,
     "metadata": {},
     "output_type": "execute_result"
    },
    {
     "data": {
      "image/png": "[encoded data removed]",
      "text/plain": [
       "<Figure size 432x288 with 1 Axes>"
      ]
     },
     "metadata": {
      "needs_background": "light"
     },
     "output_type": "display_data"
    }
   ],
   "source": [
    "fft_avg = np.median(np.array(ffts), axis=0)\n",
    "\n",
    "fs_shifted = np.linspace(-len(fft_avg) // 2, len(fft_avg) // 2, len(fft_avg)) * 16000 / len(fft_avg)\n",
    "\n",
    "plt.plot(fs_shifted, fft_avg)"
   ]
  },
  {
   "cell_type": "code",
   "execution_count": 103,
   "id": "58e27030",
   "metadata": {},
   "outputs": [
    {
     "name": "stderr",
     "output_type": "stream",
     "text": [
      "/tmp/ipykernel_122/3510147804.py:16: PerformanceWarning: DataFrame is highly fragmented.  This is usually the result of calling `frame.insert` many times, which has poor performance.  Consider joining all columns at once using pd.concat(axis=1) instead. To get a de-fragmented frame, use `newframe = frame.copy()`\n",
      "  freq_df['category'] = df['category']\n"
     ]
    },
    {
     "data": {
      "text/html": [
       "<div>\n",
       "<style scoped>\n",
       "    .dataframe tbody tr th:only-of-type {\n",
       "        vertical-align: middle;\n",
       "    }\n",
       "\n",
       "    .dataframe tbody tr th {\n",
       "        vertical-align: top;\n",
       "    }\n",
       "\n",
       "    .dataframe thead th {\n",
       "        text-align: right;\n",
       "    }\n",
       "</style>\n",
       "<table border=\"1\" class=\"dataframe\">\n",
       "  <thead>\n",
       "    <tr style=\"text-align: right;\">\n",
       "      <th></th>\n",
       "      <th>freq1</th>\n",
       "      <th>freq2</th>\n",
       "      <th>freq3</th>\n",
       "      <th>freq4</th>\n",
       "      <th>freq5</th>\n",
       "      <th>freq6</th>\n",
       "      <th>freq7</th>\n",
       "      <th>freq8</th>\n",
       "      <th>freq9</th>\n",
       "      <th>freq10</th>\n",
       "      <th>...</th>\n",
       "      <th>freq142</th>\n",
       "      <th>freq143</th>\n",
       "      <th>freq144</th>\n",
       "      <th>freq145</th>\n",
       "      <th>freq146</th>\n",
       "      <th>freq147</th>\n",
       "      <th>freq148</th>\n",
       "      <th>freq149</th>\n",
       "      <th>freq150</th>\n",
       "      <th>category</th>\n",
       "    </tr>\n",
       "  </thead>\n",
       "  <tbody>\n",
       "    <tr>\n",
       "      <th>0</th>\n",
       "      <td>34.966010</td>\n",
       "      <td>37.556084</td>\n",
       "      <td>39.776148</td>\n",
       "      <td>2.405073</td>\n",
       "      <td>47.546371</td>\n",
       "      <td>34.595999</td>\n",
       "      <td>0.185010</td>\n",
       "      <td>2.775084</td>\n",
       "      <td>49.396424</td>\n",
       "      <td>0.925031</td>\n",
       "      <td>...</td>\n",
       "      <td>20.535595</td>\n",
       "      <td>13.505393</td>\n",
       "      <td>25.715744</td>\n",
       "      <td>22.015637</td>\n",
       "      <td>18.685541</td>\n",
       "      <td>20.165584</td>\n",
       "      <td>19.795573</td>\n",
       "      <td>20.905605</td>\n",
       "      <td>19.425563</td>\n",
       "      <td>ANG</td>\n",
       "    </tr>\n",
       "    <tr>\n",
       "      <th>1</th>\n",
       "      <td>34.097085</td>\n",
       "      <td>1.954616</td>\n",
       "      <td>4.560762</td>\n",
       "      <td>53.643181</td>\n",
       "      <td>1.085900</td>\n",
       "      <td>11.944842</td>\n",
       "      <td>1.520258</td>\n",
       "      <td>38.875019</td>\n",
       "      <td>62.764693</td>\n",
       "      <td>46.693458</td>\n",
       "      <td>...</td>\n",
       "      <td>14.116631</td>\n",
       "      <td>10.641769</td>\n",
       "      <td>9.773054</td>\n",
       "      <td>21.500712</td>\n",
       "      <td>13.682273</td>\n",
       "      <td>10.207412</td>\n",
       "      <td>22.369427</td>\n",
       "      <td>13.247916</td>\n",
       "      <td>21.935069</td>\n",
       "      <td>ANG</td>\n",
       "    </tr>\n",
       "    <tr>\n",
       "      <th>2</th>\n",
       "      <td>38.686497</td>\n",
       "      <td>39.298141</td>\n",
       "      <td>2.599491</td>\n",
       "      <td>40.827252</td>\n",
       "      <td>9.633399</td>\n",
       "      <td>44.497117</td>\n",
       "      <td>32.264233</td>\n",
       "      <td>34.099166</td>\n",
       "      <td>0.152914</td>\n",
       "      <td>24.618681</td>\n",
       "      <td>...</td>\n",
       "      <td>21.254638</td>\n",
       "      <td>19.725528</td>\n",
       "      <td>22.783748</td>\n",
       "      <td>13.609086</td>\n",
       "      <td>26.147791</td>\n",
       "      <td>20.948816</td>\n",
       "      <td>19.113883</td>\n",
       "      <td>21.560460</td>\n",
       "      <td>21.866282</td>\n",
       "      <td>ANG</td>\n",
       "    </tr>\n",
       "    <tr>\n",
       "      <th>3</th>\n",
       "      <td>5.556374</td>\n",
       "      <td>3.535874</td>\n",
       "      <td>4.882874</td>\n",
       "      <td>2.188875</td>\n",
       "      <td>1.852125</td>\n",
       "      <td>4.209374</td>\n",
       "      <td>45.292867</td>\n",
       "      <td>1.178625</td>\n",
       "      <td>0.841875</td>\n",
       "      <td>12.964873</td>\n",
       "      <td>...</td>\n",
       "      <td>21.383621</td>\n",
       "      <td>26.098121</td>\n",
       "      <td>29.465620</td>\n",
       "      <td>23.067371</td>\n",
       "      <td>30.139120</td>\n",
       "      <td>22.057121</td>\n",
       "      <td>43.945867</td>\n",
       "      <td>20.036622</td>\n",
       "      <td>13.975123</td>\n",
       "      <td>HAP</td>\n",
       "    </tr>\n",
       "    <tr>\n",
       "      <th>4</th>\n",
       "      <td>54.297322</td>\n",
       "      <td>3.308439</td>\n",
       "      <td>2.919211</td>\n",
       "      <td>42.231250</td>\n",
       "      <td>4.476123</td>\n",
       "      <td>18.488335</td>\n",
       "      <td>2.140755</td>\n",
       "      <td>24.715985</td>\n",
       "      <td>11.093001</td>\n",
       "      <td>5.643808</td>\n",
       "      <td>...</td>\n",
       "      <td>43.398934</td>\n",
       "      <td>43.009706</td>\n",
       "      <td>44.955847</td>\n",
       "      <td>53.518865</td>\n",
       "      <td>48.069672</td>\n",
       "      <td>27.051354</td>\n",
       "      <td>57.411147</td>\n",
       "      <td>55.854234</td>\n",
       "      <td>56.632690</td>\n",
       "      <td>HAP</td>\n",
       "    </tr>\n",
       "  </tbody>\n",
       "</table>\n",
       "<p>5 rows × 151 columns</p>\n",
       "</div>"
      ],
      "text/plain": [
       "       freq1      freq2      freq3      freq4      freq5      freq6  \\\n",
       "0  34.966010  37.556084  39.776148   2.405073  47.546371  34.595999   \n",
       "1  34.097085   1.954616   4.560762  53.643181   1.085900  11.944842   \n",
       "2  38.686497  39.298141   2.599491  40.827252   9.633399  44.497117   \n",
       "3   5.556374   3.535874   4.882874   2.188875   1.852125   4.209374   \n",
       "4  54.297322   3.308439   2.919211  42.231250   4.476123  18.488335   \n",
       "\n",
       "       freq7      freq8      freq9     freq10  ...    freq142    freq143  \\\n",
       "0   0.185010   2.775084  49.396424   0.925031  ...  20.535595  13.505393   \n",
       "1   1.520258  38.875019  62.764693  46.693458  ...  14.116631  10.641769   \n",
       "2  32.264233  34.099166   0.152914  24.618681  ...  21.254638  19.725528   \n",
       "3  45.292867   1.178625   0.841875  12.964873  ...  21.383621  26.098121   \n",
       "4   2.140755  24.715985  11.093001   5.643808  ...  43.398934  43.009706   \n",
       "\n",
       "     freq144    freq145    freq146    freq147    freq148    freq149  \\\n",
       "0  25.715744  22.015637  18.685541  20.165584  19.795573  20.905605   \n",
       "1   9.773054  21.500712  13.682273  10.207412  22.369427  13.247916   \n",
       "2  22.783748  13.609086  26.147791  20.948816  19.113883  21.560460   \n",
       "3  29.465620  23.067371  30.139120  22.057121  43.945867  20.036622   \n",
       "4  44.955847  53.518865  48.069672  27.051354  57.411147  55.854234   \n",
       "\n",
       "     freq150  category  \n",
       "0  19.425563       ANG  \n",
       "1  21.935069       ANG  \n",
       "2  21.866282       ANG  \n",
       "3  13.975123       HAP  \n",
       "4  56.632690       HAP  \n",
       "\n",
       "[5 rows x 151 columns]"
      ]
     },
     "execution_count": 103,
     "metadata": {},
     "output_type": "execute_result"
    }
   ],
   "source": [
    "max_freq = 150\n",
    "freq_df = pd.DataFrame(columns=[f'freq{i}' for i in range(1, max_freq+1)])\n",
    "for index, row in df.iterrows():\n",
    "    waveform, _ = wav_to_numpy(row.filename)\n",
    "    fft = np.fft.fft(waveform, norm='ortho')\n",
    "    fs_shifted = np.linspace(-len(fft) // 2, len(fft) // 2, len(fft)) * 16000 / len(fft)\n",
    "    \n",
    "    shifted = np.abs(np.fft.fftshift(fft))\n",
    "    \n",
    "    relev_freqs = fs_shifted[len(fft)//2: len(fft) // 2 + max_freq]\n",
    "    relev_ampls = shifted[len(fft)//2: len(fft) // 2 + max_freq]\n",
    "    \n",
    "    sorted_freqs = [freq for _, freq in sorted(zip(relev_ampls, relev_freqs))]\n",
    "    freq_df.loc[len(freq_df.index)] = dict(zip(cols, sorted_freqs))\n",
    "\n",
    "freq_df['category'] = df['category']\n",
    "freq_df.head()"
   ]
  },
  {
   "cell_type": "code",
   "execution_count": 104,
   "id": "232727c6",
   "metadata": {},
   "outputs": [],
   "source": [
    "from sklearn.model_selection import train_test_split\n",
    "from sklearn.svm import SVC\n",
    "from sklearn.metrics import confusion_matrix\n",
    "from sklearn.metrics import classification_report\n",
    "from sklearn.metrics import f1_score"
   ]
  },
  {
   "cell_type": "code",
   "execution_count": 105,
   "id": "5462d030",
   "metadata": {},
   "outputs": [
    {
     "data": {
      "text/plain": [
       "SVC(C=1)"
      ]
     },
     "execution_count": 105,
     "metadata": {},
     "output_type": "execute_result"
    }
   ],
   "source": [
    "X = freq_df.drop(columns=['category'])\n",
    "y = freq_df['category']\n",
    "\n",
    "X_train, X_test, y_train, y_test = train_test_split(X, y, test_size=0.25, random_state=42)\n",
    "\n",
    "svm = SVC(C=1, kernel='rbf')\n",
    "svm.fit(X_train, y_train)"
   ]
  },
  {
   "cell_type": "code",
   "execution_count": 106,
   "id": "0bf5081b",
   "metadata": {},
   "outputs": [
    {
     "data": {
      "text/plain": [
       "array([[686, 122,  40,  39,  29,  71],\n",
       "       [ 48, 678,  42,  72,  22,  57],\n",
       "       [ 50, 135, 643,  40,  26,  62],\n",
       "       [ 59, 106,  44, 672,  18,  62],\n",
       "       [ 35, 104,  48,  48, 511,  66],\n",
       "       [ 41, 156,  46,  42,  21, 640]])"
      ]
     },
     "execution_count": 106,
     "metadata": {},
     "output_type": "execute_result"
    }
   ],
   "source": [
    "train_preds = svm.predict(X_train)\n",
    "confusion_matrix(y_train, train_preds)"
   ]
  },
  {
   "cell_type": "code",
   "execution_count": 107,
   "id": "78b5dd81",
   "metadata": {},
   "outputs": [
    {
     "name": "stdout",
     "output_type": "stream",
     "text": [
      "              precision    recall  f1-score   support\n",
      "\n",
      "         ANG       0.44      0.41      0.42       987\n",
      "         DIS       0.36      0.45      0.40       919\n",
      "         FEA       0.38      0.36      0.37       956\n",
      "         HAP       0.37      0.52      0.43       961\n",
      "         NEU       0.42      0.24      0.30       812\n",
      "         SAD       0.39      0.33      0.36       946\n",
      "\n",
      "    accuracy                           0.39      5581\n",
      "   macro avg       0.39      0.39      0.38      5581\n",
      "weighted avg       0.39      0.39      0.38      5581\n",
      "\n"
     ]
    }
   ],
   "source": [
    "print(classification_report(y_train, preds))"
   ]
  },
  {
   "cell_type": "code",
   "execution_count": 108,
   "id": "ef1e0b80",
   "metadata": {},
   "outputs": [
    {
     "data": {
      "text/plain": [
       "array([[ 89,  57,  39,  48,  23,  28],\n",
       "       [ 42, 136,  38,  59,  27,  50],\n",
       "       [ 49,  59,  38,  88,  35,  46],\n",
       "       [ 48,  44,  36, 120,  28,  34],\n",
       "       [ 22,  45,  44,  80,  39,  45],\n",
       "       [ 33,  76,  46,  71,  46,  53]])"
      ]
     },
     "execution_count": 108,
     "metadata": {},
     "output_type": "execute_result"
    }
   ],
   "source": [
    "test_preds = svm.predict(X_test)\n",
    "confusion_matrix(y_test, test_preds)"
   ]
  },
  {
   "cell_type": "code",
   "execution_count": 109,
   "id": "9961b8c9",
   "metadata": {},
   "outputs": [
    {
     "name": "stdout",
     "output_type": "stream",
     "text": [
      "              precision    recall  f1-score   support\n",
      "\n",
      "         ANG       0.31      0.31      0.31       284\n",
      "         DIS       0.33      0.39      0.35       352\n",
      "         FEA       0.16      0.12      0.14       315\n",
      "         HAP       0.26      0.39      0.31       310\n",
      "         NEU       0.20      0.14      0.16       275\n",
      "         SAD       0.21      0.16      0.18       325\n",
      "\n",
      "    accuracy                           0.26      1861\n",
      "   macro avg       0.24      0.25      0.24      1861\n",
      "weighted avg       0.24      0.26      0.25      1861\n",
      "\n"
     ]
    }
   ],
   "source": [
    "print(classification_report(y_test, test_preds))"
   ]
  },
  {
   "cell_type": "code",
   "execution_count": 110,
   "id": "5b2732ba",
   "metadata": {},
   "outputs": [],
   "source": [
    "train_f1s = []\n",
    "test_f1s = []\n",
    "train_accs = []\n",
    "test_accs = []\n",
    "\n",
    "Cs = np.array([0.0001, 0.01, 0.1, 1, 10, 100, 1000])\n",
    "for c in Cs:\n",
    "    svm = SVC(C=c, kernel='rbf')\n",
    "    svm.fit(X_train, y_train)\n",
    "    \n",
    "    train_preds = svm.predict(X_train)\n",
    "    test_preds = svm.predict(X_test)\n",
    "    \n",
    "    train_f1s.append(f1_score(y_train, train_preds, average='macro'))\n",
    "    test_f1s.append(f1_score(y_test, test_preds, average='macro'))\n",
    "    \n",
    "    train_accs.append(np.mean(train_preds == y_train))\n",
    "    test_accs.append(np.mean(test_preds == y_test))"
   ]
  },
  {
   "cell_type": "code",
   "execution_count": 111,
   "id": "3cd81c8b",
   "metadata": {},
   "outputs": [
    {
     "data": {
      "image/png": "[encoded data removed]",
      "text/plain": [
       "<Figure size 432x288 with 1 Axes>"
      ]
     },
     "metadata": {
      "needs_background": "light"
     },
     "output_type": "display_data"
    }
   ],
   "source": [
    "plt.plot(np.log10(Cs), train_f1s, color='blue', label='Training F1 Score')\n",
    "plt.plot(np.log10(Cs), test_f1s, color='red', label='Test F1 Score')\n",
    "plt.legend()\n",
    "plt.show()"
   ]
  },
  {
   "cell_type": "code",
   "execution_count": 112,
   "id": "e639b00a",
   "metadata": {},
   "outputs": [
    {
     "data": {
      "image/png": "[encoded data removed]",
      "text/plain": [
       "<Figure size 432x288 with 1 Axes>"
      ]
     },
     "metadata": {
      "needs_background": "light"
     },
     "output_type": "display_data"
    }
   ],
   "source": [
    "plt.plot(np.log10(Cs), train_accs, color='blue', label='Training F1 Score')\n",
    "plt.plot(np.log10(Cs), test_accs, color='red', label='Test F1 Score')\n",
    "plt.legend()\n",
    "plt.show()"
   ]
  },
  {
   "cell_type": "code",
   "execution_count": null,
   "id": "50261d69",
   "metadata": {},
   "outputs": [],
   "source": []
  }
 ],
 "metadata": {
  "kernelspec": {
   "display_name": "Python 3 (ipykernel)",
   "language": "python",
   "name": "python3"
  },
  "language_info": {
   "codemirror_mode": {
    "name": "ipython",
    "version": 3
   },
   "file_extension": ".py",
   "mimetype": "text/x-python",
   "name": "python",
   "nbconvert_exporter": "python",
   "pygments_lexer": "ipython3",
   "version": "3.9.5"
  }
 },
 "nbformat": 4,
 "nbformat_minor": 5
}
