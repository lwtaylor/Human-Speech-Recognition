{
 "cells": [
  {
   "cell_type": "code",
   "execution_count": 1,
   "id": "c4a45066",
   "metadata": {},
   "outputs": [],
   "source": [
    "import os\n",
    "\n",
    "import torch\n",
    "from torch import nn\n",
    "from torch.utils.data import Dataset\n",
    "import pandas as pd\n",
    "import torchaudio\n",
    "import matplotlib.pyplot as plt\n",
    "from torch.utils.data import DataLoader\n",
    "from torchsummary import summary\n",
    "import numpy as np\n",
    "from sklearn.model_selection import train_test_split"
   ]
  },
  {
   "cell_type": "code",
   "execution_count": null,
   "id": "d496af80",
   "metadata": {
    "collapsed": true
   },
   "outputs": [],
   "source": []
  },
  {
   "cell_type": "code",
   "execution_count": null,
   "id": "76b9b286",
   "metadata": {},
   "outputs": [],
   "source": [
    "df = pd.DataFrame()\n",
    "df['filename'] = pd.Series(os.listdir('../data/Crema'))\n",
    "df['category'] = df['filename'].str.extract(r'\\d+_[A-Z]{3}_([A-Z]{3})_[A-Z]+.wav')\n",
    "\n",
    "categories = sorted(df.category.unique())\n",
    "num_map = range(len(categories))\n",
    "df['category_num'] = df['category'].replace(dict(zip(categories, num_map)))\n",
    "\n",
    "train_data, test_data = train_test_split(df, test_size=0.2, stratify=df['category_num'])\n",
    "\n",
    "train_data.to_csv('../data/recording_paths_train.csv', index=False)\n",
    "test_data.to_csv('../data/recording_paths_test.csv', index=False)"
   ]
  }
 ],
 "metadata": {
  "kernelspec": {
   "display_name": "Python 3 (ipykernel)",
   "language": "python",
   "name": "python3"
  },
  "language_info": {
   "codemirror_mode": {
    "name": "ipython",
    "version": 3
   },
   "file_extension": ".py",
   "mimetype": "text/x-python",
   "name": "python",
   "nbconvert_exporter": "python",
   "pygments_lexer": "ipython3",
   "version": "3.9.5"
  }
 },
 "nbformat": 4,
 "nbformat_minor": 5
}
