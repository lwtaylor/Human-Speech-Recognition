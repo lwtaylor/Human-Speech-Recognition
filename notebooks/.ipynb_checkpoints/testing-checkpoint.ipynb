{
 "cells": [
  {
   "cell_type": "markdown",
   "id": "5809cf8a",
   "metadata": {},
   "source": [
    "# AudioModel Testing Notebook \n",
    "\n",
    "Testing to see if the code I compiled from that guy works\n",
    "\n",
    "### Thoughts:\n",
    "* I think we will want to use weights and biases or tensorboard to keep track of the model's progress. \n",
    "    * Need to get a solid frame work for improvement set up, so the stuff we are doing isn't so random after all.\n",
    "    * First we need to find a solid architecture, next we will find the best hyper parameters for our model. "
   ]
  },
  {
   "cell_type": "code",
   "execution_count": 1,
   "id": "50d6770a",
   "metadata": {},
   "outputs": [],
   "source": [
    "import wandb"
   ]
  },
  {
   "cell_type": "code",
   "execution_count": 2,
   "id": "9a330ff6",
   "metadata": {},
   "outputs": [
    {
     "name": "stderr",
     "output_type": "stream",
     "text": [
      "Failed to detect the name of this notebook, you can set it manually with the WANDB_NOTEBOOK_NAME environment variable to enable code saving.\n",
      "\u001b[34m\u001b[1mwandb\u001b[0m: Currently logged in as: \u001b[33mlwtaylor\u001b[0m. Use \u001b[1m`wandb login --relogin`\u001b[0m to force relogin\n"
     ]
    },
    {
     "data": {
      "text/plain": [
       "True"
      ]
     },
     "execution_count": 2,
     "metadata": {},
     "output_type": "execute_result"
    }
   ],
   "source": [
    "wandb.login() # relogin=True"
   ]
  },
  {
   "cell_type": "code",
   "execution_count": 3,
   "id": "ca08dd06",
   "metadata": {},
   "outputs": [],
   "source": [
    "from AudioDataset import * \n",
    "from AudioModel import * \n",
    "from train import * \n",
    "\n",
    "from torch.utils.data import DataLoader\n"
   ]
  },
  {
   "cell_type": "code",
   "execution_count": 4,
   "id": "8e3b6aac",
   "metadata": {},
   "outputs": [],
   "source": [
    "# BATCH_SIZE = 128\n",
    "# EPOCHS = 10\n",
    "# LEARNING_RATE = 0.001\n",
    "\n",
    "# AUDIO_DIR = '../data/Crema'\n",
    "# SAMPLE_RATE = 16000\n",
    "# NUM_SAMPLES = 22050\n"
   ]
  },
  {
   "cell_type": "code",
   "execution_count": 5,
   "id": "7f42ea5d",
   "metadata": {},
   "outputs": [],
   "source": [
    "hyperparameters = dict(\n",
    "    epochs=10,\n",
    "    batch_size=64, \n",
    "    learning_rate=0.001, \n",
    "    audio_dir='../data/Crema',\n",
    "    sample_rate=16000,\n",
    "    num_samples=22050, \n",
    "    n_fft=1024, \n",
    "    hop_length=512, \n",
    "    n_mels=64, \n",
    "    model='cnn', \n",
    "    dataset='crema'\n",
    ")"
   ]
  },
  {
   "cell_type": "markdown",
   "id": "fae761f4",
   "metadata": {},
   "source": [
    "#### TODO: add a `make` function! https://colab.research.google.com/github/wandb/examples/blob/master/colabs/pytorch/Simple_PyTorch_Integration.ipynb#scrollTo=I87OUqkWvBKq"
   ]
  },
  {
   "cell_type": "code",
   "execution_count": null,
   "id": "e0c98700",
   "metadata": {},
   "outputs": [
    {
     "data": {
      "text/html": [
       "Tracking run with wandb version 0.16.6"
      ],
      "text/plain": [
       "<IPython.core.display.HTML object>"
      ]
     },
     "metadata": {},
     "output_type": "display_data"
    },
    {
     "data": {
      "text/html": [
       "Run data is saved locally in <code>/home/lwtaylor/ds3-audio/notebooks/wandb/run-20240426_002546-mibpd9b7</code>"
      ],
      "text/plain": [
       "<IPython.core.display.HTML object>"
      ]
     },
     "metadata": {},
     "output_type": "display_data"
    },
    {
     "data": {
      "text/html": [
       "Syncing run <strong><a href='https://wandb.ai/lwtaylor/pytorch-demo/runs/mibpd9b7' target=\"_blank\">breezy-blaze-1</a></strong> to <a href='https://wandb.ai/lwtaylor/pytorch-demo' target=\"_blank\">Weights & Biases</a> (<a href='https://wandb.me/run' target=\"_blank\">docs</a>)<br/>"
      ],
      "text/plain": [
       "<IPython.core.display.HTML object>"
      ]
     },
     "metadata": {},
     "output_type": "display_data"
    },
    {
     "data": {
      "text/html": [
       " View project at <a href='https://wandb.ai/lwtaylor/pytorch-demo' target=\"_blank\">https://wandb.ai/lwtaylor/pytorch-demo</a>"
      ],
      "text/plain": [
       "<IPython.core.display.HTML object>"
      ]
     },
     "metadata": {},
     "output_type": "display_data"
    },
    {
     "data": {
      "text/html": [
       " View run at <a href='https://wandb.ai/lwtaylor/pytorch-demo/runs/mibpd9b7' target=\"_blank\">https://wandb.ai/lwtaylor/pytorch-demo/runs/mibpd9b7</a>"
      ],
      "text/plain": [
       "<IPython.core.display.HTML object>"
      ]
     },
     "metadata": {},
     "output_type": "display_data"
    },
    {
     "name": "stdout",
     "output_type": "stream",
     "text": [
      "Using cuda\n",
      "CNNNetwork(\n",
      "  (conv1): Sequential(\n",
      "    (0): Conv2d(1, 16, kernel_size=(3, 3), stride=(1, 1), padding=(2, 2))\n",
      "    (1): ReLU()\n",
      "    (2): MaxPool2d(kernel_size=2, stride=2, padding=0, dilation=1, ceil_mode=False)\n",
      "  )\n",
      "  (conv2): Sequential(\n",
      "    (0): Conv2d(16, 32, kernel_size=(3, 3), stride=(1, 1), padding=(2, 2))\n",
      "    (1): ReLU()\n",
      "    (2): MaxPool2d(kernel_size=2, stride=2, padding=0, dilation=1, ceil_mode=False)\n",
      "  )\n",
      "  (conv3): Sequential(\n",
      "    (0): Conv2d(32, 64, kernel_size=(3, 3), stride=(1, 1), padding=(2, 2))\n",
      "    (1): ReLU()\n",
      "    (2): MaxPool2d(kernel_size=2, stride=2, padding=0, dilation=1, ceil_mode=False)\n",
      "  )\n",
      "  (conv4): Sequential(\n",
      "    (0): Conv2d(64, 128, kernel_size=(3, 3), stride=(1, 1), padding=(2, 2))\n",
      "    (1): ReLU()\n",
      "    (2): MaxPool2d(kernel_size=2, stride=2, padding=0, dilation=1, ceil_mode=False)\n",
      "  )\n",
      "  (flatten): Flatten(start_dim=1, end_dim=-1)\n",
      "  (linear): Linear(in_features=2560, out_features=6, bias=True)\n",
      "  (softmax): Softmax(dim=1)\n",
      ")\n"
     ]
    },
    {
     "name": "stderr",
     "output_type": "stream",
     "text": [
      "\r",
      "  0%|          | 0/10 [00:00<?, ?it/s]"
     ]
    },
    {
     "name": "stdout",
     "output_type": "stream",
     "text": [
      "Epoch 1\n",
      "Loss after 01536 examples: 1.869\n",
      "Loss after 03136 examples: 1.857\n",
      "Loss after 04736 examples: 1.825\n",
      "Loss after 06336 examples: 1.903\n"
     ]
    },
    {
     "name": "stderr",
     "output_type": "stream",
     "text": [
      "\r",
      " 10%|█         | 1/10 [00:53<08:01, 53.52s/it]"
     ]
    },
    {
     "name": "stdout",
     "output_type": "stream",
     "text": [
      "loss: 1.7131094932556152\n",
      "---------------------------\n",
      "Epoch 2\n",
      "Loss after 07890 examples: 1.902\n",
      "Loss after 09490 examples: 1.950\n",
      "Loss after 11090 examples: 1.825\n"
     ]
    }
   ],
   "source": [
    "with wandb.init(project='simple-melspectogram-cnn', config=hyperparameters):\n",
    "    config=wandb.config\n",
    "    \n",
    "    if torch.cuda.is_available():\n",
    "            device = \"cuda\"\n",
    "    else:\n",
    "        device = \"cpu\"\n",
    "    print(f\"Using {device}\")\n",
    "\n",
    "    # instantiating our dataset object and create data loader\n",
    "    mel_spectrogram = torchaudio.transforms.MelSpectrogram(\n",
    "        sample_rate=config.sample_rate,\n",
    "        n_fft=config.n_fft,\n",
    "        hop_length=config.hop_length,\n",
    "        n_mels=config.n_mels\n",
    "    )\n",
    "\n",
    "    audio_dataset = AudioEmotionDataset(config.audio_dir,\n",
    "                            mel_spectrogram,\n",
    "                            config.sample_rate,\n",
    "                            config.num_samples,\n",
    "                            device)\n",
    "\n",
    "    train_dataloader = create_data_loader(audio_dataset, config.batch_size)\n",
    "\n",
    "    # construct model and assign it to device\n",
    "    cnn = CNNNetwork().to(device)\n",
    "    print(cnn)\n",
    "\n",
    "    # initialise loss funtion + optimiser\n",
    "    loss_fn = nn.CrossEntropyLoss()\n",
    "    optimiser = torch.optim.Adam(cnn.parameters(),\n",
    "                                 lr=config.learning_rate)\n",
    "    \n",
    "    train(cnn, train_dataloader, loss_fn, optimiser, device, config.epochs)\n",
    "\n",
    "    # save model\n",
    "    torch.save(cnn.state_dict(), \"feedforwardnet.pth\")\n",
    "    print(\"Trained feed forward net saved at feedforwardnet.pth\")"
   ]
  }
 ],
 "metadata": {
  "kernelspec": {
   "display_name": "Python 3 (ipykernel)",
   "language": "python",
   "name": "python3"
  },
  "language_info": {
   "codemirror_mode": {
    "name": "ipython",
    "version": 3
   },
   "file_extension": ".py",
   "mimetype": "text/x-python",
   "name": "python",
   "nbconvert_exporter": "python",
   "pygments_lexer": "ipython3",
   "version": "3.9.5"
  }
 },
 "nbformat": 4,
 "nbformat_minor": 5
}
