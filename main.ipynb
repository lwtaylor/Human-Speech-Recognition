{
 "cells": [
  {
   "cell_type": "code",
   "execution_count": 1,
   "id": "f446cd06",
   "metadata": {},
   "outputs": [],
   "source": [
    "import os\n",
    "import torch\n",
    "from torch import nn\n",
    "from torch.utils.data import Dataset\n",
    "import pandas as pd\n",
    "import torchaudio\n",
    "import matplotlib.pyplot as plt\n",
    "from torch.utils.data import DataLoader\n",
    "from torchsummary import summary\n",
    "import numpy as np\n",
    "\n",
    "%load_ext autoreload\n",
    "%autoreload 2"
   ]
  },
  {
   "cell_type": "code",
   "execution_count": 2,
   "id": "68cbb167",
   "metadata": {},
   "outputs": [],
   "source": [
    "from scripts.dataset import EmotionDataset\n",
    "from scripts.cnnnet import CNNNetwork\n",
    "from scripts.data_loader import create_data_loader"
   ]
  },
  {
   "cell_type": "code",
   "execution_count": 3,
   "id": "21e898d5",
   "metadata": {},
   "outputs": [],
   "source": [
    "from sklearn.metrics import confusion_matrix\n",
    "from sklearn.metrics import classification_report"
   ]
  },
  {
   "cell_type": "code",
   "execution_count": 4,
   "id": "46ce5079",
   "metadata": {},
   "outputs": [],
   "source": [
    "RECORDING_DF_PATH = os.path.join('data', 'recording_paths.csv')\n",
    "RECORDING_TRAIN_PATH = os.path.join('data', 'recording_paths_train.csv')\n",
    "RECORDING_TEST_PATH = os.path.join('data', 'recording_paths_test.csv')\n",
    "\n",
    "FINAL_SR = 16000\n",
    "NUM_SAMPLES_LIMIT = 60000\n",
    "BATCH_SIZE = 128"
   ]
  },
  {
   "cell_type": "code",
   "execution_count": 5,
   "id": "df5fd2c2",
   "metadata": {},
   "outputs": [],
   "source": [
    "mel_spectrogram = torchaudio.transforms.MelSpectrogram(\n",
    "        sample_rate=FINAL_SR,\n",
    "        n_fft=1024,\n",
    "        hop_length=512,\n",
    "        n_mels=64\n",
    "    )\n",
    "\n",
    "if torch.cuda.is_available():\n",
    "    device = \"cuda\"\n",
    "else:\n",
    "    device = \"cpu\""
   ]
  },
  {
   "cell_type": "code",
   "execution_count": 6,
   "id": "02283a1e",
   "metadata": {},
   "outputs": [
    {
     "data": {
      "image/png": "[encoded data removed]",
      "text/plain": [
       "<Figure size 720x432 with 2 Axes>"
      ]
     },
     "metadata": {
      "needs_background": "light"
     },
     "output_type": "display_data"
    }
   ],
   "source": [
    "emd_train = EmotionDataset(RECORDING_TRAIN_PATH, FINAL_SR, NUM_SAMPLES_LIMIT, mel_spectrogram, device)\n",
    "emd_test = EmotionDataset(RECORDING_TEST_PATH, FINAL_SR, NUM_SAMPLES_LIMIT, mel_spectrogram, device)\n",
    "\n",
    "emd_train.plot_spectrogram(200, log=True)"
   ]
  },
  {
   "cell_type": "code",
   "execution_count": 41,
   "id": "29bbbdd3",
   "metadata": {},
   "outputs": [
    {
     "name": "stdout",
     "output_type": "stream",
     "text": [
      "----------------------------------------------------------------\n",
      "        Layer (type)               Output Shape         Param #\n",
      "================================================================\n",
      "            Conv2d-1          [-1, 16, 66, 120]             160\n",
      "              ReLU-2          [-1, 16, 66, 120]               0\n",
      "         MaxPool2d-3           [-1, 16, 33, 60]               0\n",
      "         Dropout2d-4           [-1, 16, 33, 60]               0\n",
      "            Conv2d-5           [-1, 32, 35, 62]           4,640\n",
      "              ReLU-6           [-1, 32, 35, 62]               0\n",
      "         MaxPool2d-7           [-1, 32, 17, 31]               0\n",
      "         Dropout2d-8           [-1, 32, 17, 31]               0\n",
      "            Conv2d-9           [-1, 64, 19, 33]          18,496\n",
      "             ReLU-10           [-1, 64, 19, 33]               0\n",
      "        MaxPool2d-11            [-1, 64, 9, 16]               0\n",
      "        Dropout2d-12            [-1, 64, 9, 16]               0\n",
      "           Conv2d-13          [-1, 128, 11, 18]          73,856\n",
      "             ReLU-14          [-1, 128, 11, 18]               0\n",
      "        MaxPool2d-15            [-1, 128, 5, 9]               0\n",
      "        Dropout2d-16            [-1, 128, 5, 9]               0\n",
      "           Conv2d-17           [-1, 256, 7, 11]         295,168\n",
      "             ReLU-18           [-1, 256, 7, 11]               0\n",
      "        MaxPool2d-19            [-1, 256, 3, 5]               0\n",
      "        Dropout2d-20            [-1, 256, 3, 5]               0\n",
      "           Conv2d-21            [-1, 512, 5, 7]       1,180,160\n",
      "             ReLU-22            [-1, 512, 5, 7]               0\n",
      "        MaxPool2d-23            [-1, 512, 2, 3]               0\n",
      "        Dropout2d-24            [-1, 512, 2, 3]               0\n",
      "           Conv2d-25           [-1, 1024, 4, 5]       4,719,616\n",
      "             ReLU-26           [-1, 1024, 4, 5]               0\n",
      "        MaxPool2d-27           [-1, 1024, 2, 2]               0\n",
      "        Dropout2d-28           [-1, 1024, 2, 2]               0\n",
      "          Flatten-29                 [-1, 4096]               0\n",
      "           Linear-30                    [-1, 6]          24,582\n",
      "          Softmax-31                    [-1, 6]               0\n",
      "================================================================\n",
      "Total params: 6,316,678\n",
      "Trainable params: 6,316,678\n",
      "Non-trainable params: 0\n",
      "----------------------------------------------------------------\n",
      "Input size (MB): 0.03\n",
      "Forward/backward pass size (MB): 6.05\n",
      "Params size (MB): 24.10\n",
      "Estimated Total Size (MB): 30.17\n",
      "----------------------------------------------------------------\n",
      "None\n",
      "\n",
      "Epoch 1 / 36 started\n",
      "Train Loss = 1.5692651271820068\n",
      "Validation Loss = 1.6192379991213481\n",
      "Epoch 1 / 36 finished\n",
      "\n",
      "Epoch 2 / 36 started\n",
      "Train Loss = 1.5837355852127075\n",
      "Validation Loss = 1.604546497265498\n",
      "Epoch 2 / 36 finished\n",
      "\n",
      "Epoch 3 / 36 started\n",
      "Train Loss = 1.5835230350494385\n",
      "Validation Loss = 1.5922918717066448\n",
      "Epoch 3 / 36 finished\n",
      "\n",
      "Epoch 4 / 36 started\n",
      "Train Loss = 1.554925799369812\n",
      "Validation Loss = 1.5810876488685608\n",
      "Epoch 4 / 36 finished\n",
      "\n",
      "Epoch 5 / 36 started\n",
      "Train Loss = 1.5489615201950073\n",
      "Validation Loss = 1.5807497402032216\n",
      "Epoch 5 / 36 finished\n",
      "\n",
      "Epoch 6 / 36 started\n",
      "Train Loss = 1.552740454673767\n",
      "Validation Loss = 1.5790898998578389\n",
      "Epoch 6 / 36 finished\n",
      "\n",
      "Epoch 7 / 36 started\n",
      "Train Loss = 1.5612949132919312\n",
      "Validation Loss = 1.5796545247236888\n",
      "Epoch 7 / 36 finished\n",
      "\n",
      "Epoch 8 / 36 started\n",
      "Train Loss = 1.5427132844924927\n",
      "Validation Loss = 1.5744309723377228\n",
      "Epoch 8 / 36 finished\n",
      "\n",
      "Epoch 9 / 36 started\n",
      "Train Loss = 1.5453946590423584\n",
      "Validation Loss = 1.5747510194778442\n",
      "Epoch 9 / 36 finished\n",
      "\n",
      "Epoch 10 / 36 started\n",
      "Train Loss = 1.582162857055664\n",
      "Validation Loss = 1.5924750864505768\n",
      "Epoch 10 / 36 finished\n",
      "\n",
      "Epoch 11 / 36 started\n",
      "Train Loss = 1.5026555061340332\n",
      "Validation Loss = 1.5808807611465454\n",
      "Epoch 11 / 36 finished\n",
      "\n",
      "Epoch 12 / 36 started\n",
      "Train Loss = 1.512653112411499\n",
      "Validation Loss = 1.5698937773704529\n",
      "Epoch 12 / 36 finished\n",
      "\n",
      "Epoch 13 / 36 started\n",
      "Train Loss = 1.4580309391021729\n",
      "Validation Loss = 1.549452046553294\n",
      "Epoch 13 / 36 finished\n",
      "\n",
      "Epoch 14 / 36 started\n",
      "Train Loss = 1.464221715927124\n",
      "Validation Loss = 1.5499909420808156\n",
      "Epoch 14 / 36 finished\n",
      "\n",
      "Epoch 15 / 36 started\n",
      "Train Loss = 1.4848259687423706\n",
      "Validation Loss = 1.5384957492351532\n",
      "Epoch 15 / 36 finished\n",
      "\n",
      "Epoch 16 / 36 started\n",
      "Train Loss = 1.478826642036438\n",
      "Validation Loss = 1.5380890866120656\n",
      "Epoch 16 / 36 finished\n",
      "\n",
      "Epoch 17 / 36 started\n",
      "Train Loss = 1.4623411893844604\n",
      "Validation Loss = 1.5373576680819194\n",
      "Epoch 17 / 36 finished\n",
      "\n",
      "Epoch 18 / 36 started\n",
      "Train Loss = 1.421248435974121\n",
      "Validation Loss = 1.5349326729774475\n",
      "Epoch 18 / 36 finished\n",
      "\n",
      "Epoch 19 / 36 started\n",
      "Train Loss = 1.4002373218536377\n",
      "Validation Loss = 1.5194255808989208\n",
      "Epoch 19 / 36 finished\n",
      "\n",
      "Epoch 20 / 36 started\n",
      "Train Loss = 1.3669092655181885\n",
      "Validation Loss = 1.5069667001565297\n",
      "Epoch 20 / 36 finished\n",
      "\n",
      "Epoch 21 / 36 started\n",
      "Train Loss = 1.4569050073623657\n",
      "Validation Loss = 1.5223076542218525\n",
      "Epoch 21 / 36 finished\n",
      "\n",
      "Epoch 22 / 36 started\n",
      "Train Loss = 1.3773329257965088\n",
      "Validation Loss = 1.4985156953334808\n",
      "Epoch 22 / 36 finished\n",
      "\n",
      "Epoch 23 / 36 started\n",
      "Train Loss = 1.3269984722137451\n",
      "Validation Loss = 1.496515949567159\n",
      "Epoch 23 / 36 finished\n",
      "\n",
      "Epoch 24 / 36 started\n",
      "Train Loss = 1.3713353872299194\n",
      "Validation Loss = 1.5053523977597554\n",
      "Epoch 24 / 36 finished\n",
      "\n",
      "Epoch 25 / 36 started\n",
      "Train Loss = 1.29645836353302\n",
      "Validation Loss = 1.475293795267741\n",
      "Epoch 25 / 36 finished\n",
      "\n",
      "Epoch 26 / 36 started\n",
      "Train Loss = 1.2920221090316772\n",
      "Validation Loss = 1.4745932817459106\n",
      "Epoch 26 / 36 finished\n",
      "\n",
      "Epoch 27 / 36 started\n",
      "Train Loss = 1.2852568626403809\n",
      "Validation Loss = 1.4743266105651855\n",
      "Epoch 27 / 36 finished\n",
      "\n",
      "Epoch 28 / 36 started\n",
      "Train Loss = 1.2952948808670044\n",
      "Validation Loss = 1.4824327329794567\n",
      "Epoch 28 / 36 finished\n",
      "\n",
      "Epoch 29 / 36 started\n",
      "Train Loss = 1.2275354862213135\n",
      "Validation Loss = 1.4751612544059753\n",
      "Epoch 29 / 36 finished\n",
      "\n",
      "Epoch 30 / 36 started\n",
      "Train Loss = 1.2027862071990967\n",
      "Validation Loss = 1.4613282481829326\n",
      "Epoch 30 / 36 finished\n",
      "\n",
      "Epoch 31 / 36 started\n",
      "Train Loss = 1.2355841398239136\n",
      "Validation Loss = 1.5017678836981456\n",
      "Epoch 31 / 36 finished\n",
      "\n",
      "Epoch 32 / 36 started\n",
      "Train Loss = 1.2107596397399902\n",
      "Validation Loss = 1.4722626407941182\n",
      "Epoch 32 / 36 finished\n",
      "\n",
      "Epoch 33 / 36 started\n",
      "Train Loss = 1.1702977418899536\n",
      "Validation Loss = 1.4595165153344472\n",
      "Epoch 33 / 36 finished\n",
      "\n",
      "Epoch 34 / 36 started\n",
      "Train Loss = 1.13773775100708\n",
      "Validation Loss = 1.4470331569512684\n",
      "Epoch 36 / 36 finished\n",
      "\n",
      "Trained cnn saved at models/cnn.pth\n"
     ]
    }
   ],
   "source": [
    "train_dataloader = create_data_loader(emd_train, BATCH_SIZE)\n",
    "valid_dataloader = create_data_loader(emd_test, BATCH_SIZE)\n",
    "loss_fn = nn.CrossEntropyLoss()\n",
    "\n",
    "cnn = CNNNetwork(num_layers=7,\n",
    "                learning_rate=0.0005,\n",
    "                loss_fn = loss_fn,\n",
    "                device=device,\n",
    "                train_data_loader = train_dataloader,\n",
    "                validate_data_loader = valid_dataloader\n",
    "                ).to(device)\n",
    "\n",
    "print(summary(cnn, (1, 64, 118)))\n",
    "print()\n",
    "\n",
    "cnn.train(num_epochs=36)\n",
    "\n",
    "torch.save(cnn.state_dict(), \"models/cnn.pth\")\n",
    "print(\"Trained cnn saved at models/cnn.pth\")"
   ]
  },
  {
   "cell_type": "code",
   "execution_count": 42,
   "id": "acff8f82",
   "metadata": {},
   "outputs": [
    {
     "data": {
      "text/plain": [
       "[<matplotlib.lines.Line2D at 0x7f781c6a3c40>]"
      ]
     },
     "execution_count": 42,
     "metadata": {},
     "output_type": "execute_result"
    },
    {
     "data": {
      "image/png": "[encoded data removed]",
      "text/plain": [
       "<Figure size 432x288 with 1 Axes>"
      ]
     },
     "metadata": {
      "needs_background": "light"
     },
     "output_type": "display_data"
    }
   ],
   "source": [
    "epoch_losses = cnn.get_train_epoch_losses()\n",
    "plt.plot(list(range(1, len(epoch_losses) + 1)), epoch_losses)"
   ]
  },
  {
   "cell_type": "code",
   "execution_count": 43,
   "id": "c8468ef6",
   "metadata": {},
   "outputs": [
    {
     "data": {
      "text/plain": [
       "[<matplotlib.lines.Line2D at 0x7f781c4712b0>]"
      ]
     },
     "execution_count": 43,
     "metadata": {},
     "output_type": "execute_result"
    },
    {
     "data": {
      "image/png": "[encoded data removed]",
      "text/plain": [
       "<Figure size 432x288 with 1 Axes>"
      ]
     },
     "metadata": {
      "needs_background": "light"
     },
     "output_type": "display_data"
    }
   ],
   "source": [
    "valid_losses = cnn.get_valid_epoch_losses()\n",
    "plt.plot(list(range(1, len(valid_losses) + 1)), valid_losses)"
   ]
  },
  {
   "cell_type": "code",
   "execution_count": 44,
   "id": "2d06e4b2",
   "metadata": {},
   "outputs": [
    {
     "name": "stdout",
     "output_type": "stream",
     "text": [
      "Predicted: 'SAD', expected: 'SAD'\n"
     ]
    }
   ],
   "source": [
    "class_mapping = ['ANG', 'DIS', 'FEA', 'HAP', 'NEU', 'SAD']\n",
    "\n",
    "# state_dict = torch.load(\"models/cnn.pth\")\n",
    "# cnn.load_state_dict(state_dict)\n",
    "\n",
    "idx = 1\n",
    "\n",
    "inp, target = emd_train[idx][0], emd_train[idx][1]\n",
    "inp.unsqueeze_(0)\n",
    "\n",
    "predicted, expected = cnn.predict(inp, target, class_mapping)\n",
    "print(f\"Predicted: '{predicted}', expected: '{expected}'\")"
   ]
  },
  {
   "cell_type": "code",
   "execution_count": 45,
   "id": "d645a60a",
   "metadata": {},
   "outputs": [
    {
     "name": "stdout",
     "output_type": "stream",
     "text": [
      "0 / 5953 Done\n",
      "1000 / 5953 Done\n",
      "2000 / 5953 Done\n",
      "3000 / 5953 Done\n",
      "4000 / 5953 Done\n",
      "5000 / 5953 Done\n"
     ]
    }
   ],
   "source": [
    "train_df = pd.read_csv('data/recording_paths_train.csv')\n",
    "expected = train_df.category\n",
    "\n",
    "predictions = []\n",
    "for i in range(len(emd_train)):\n",
    "    inp, target = emd_train[i][0], emd_train[i][1]\n",
    "    inp.unsqueeze_(0)\n",
    "    predictions.append(cnn.predict(inp, target, class_mapping)[0])\n",
    "    \n",
    "    if i % 1000 == 0:\n",
    "        print(f'{i} / {len(emd_train)} Done')"
   ]
  },
  {
   "cell_type": "code",
   "execution_count": 46,
   "id": "cabbf909",
   "metadata": {},
   "outputs": [
    {
     "data": {
      "text/plain": [
       "array([[892,  49,  13,  36,  25,   2],\n",
       "       [ 89, 651,  38,  69,  60, 110],\n",
       "       [ 52,  54, 498, 153,  81, 179],\n",
       "       [ 65,  45,  40, 777,  65,  24],\n",
       "       [  2,  33,   4,  19, 774,  37],\n",
       "       [  8,  73,  46,  24,  89, 777]])"
      ]
     },
     "execution_count": 46,
     "metadata": {},
     "output_type": "execute_result"
    }
   ],
   "source": [
    "confusion_matrix(expected, np.array(predictions))"
   ]
  },
  {
   "cell_type": "code",
   "execution_count": 47,
   "id": "02bb8253",
   "metadata": {},
   "outputs": [
    {
     "name": "stdout",
     "output_type": "stream",
     "text": [
      "              precision    recall  f1-score   support\n",
      "\n",
      "         ANG       0.81      0.88      0.84      1017\n",
      "         DIS       0.72      0.64      0.68      1017\n",
      "         FEA       0.78      0.49      0.60      1017\n",
      "         HAP       0.72      0.76      0.74      1016\n",
      "         NEU       0.71      0.89      0.79       869\n",
      "         SAD       0.69      0.76      0.72      1017\n",
      "\n",
      "    accuracy                           0.73      5953\n",
      "   macro avg       0.74      0.74      0.73      5953\n",
      "weighted avg       0.74      0.73      0.73      5953\n",
      "\n"
     ]
    }
   ],
   "source": [
    "from sklearn.metrics import classification_report\n",
    "\n",
    "print(classification_report(expected, np.array(predictions)))"
   ]
  },
  {
   "cell_type": "code",
   "execution_count": 48,
   "id": "c6336bd4",
   "metadata": {},
   "outputs": [
    {
     "name": "stdout",
     "output_type": "stream",
     "text": [
      "0 / 1489 Done\n",
      "100 / 1489 Done\n",
      "200 / 1489 Done\n",
      "300 / 1489 Done\n",
      "400 / 1489 Done\n",
      "500 / 1489 Done\n",
      "600 / 1489 Done\n",
      "700 / 1489 Done\n",
      "800 / 1489 Done\n",
      "900 / 1489 Done\n",
      "1000 / 1489 Done\n",
      "1100 / 1489 Done\n",
      "1200 / 1489 Done\n",
      "1300 / 1489 Done\n",
      "1400 / 1489 Done\n"
     ]
    }
   ],
   "source": [
    "test_df = pd.read_csv('data/recording_paths_test.csv')\n",
    "expected = test_df.category\n",
    "\n",
    "predictions = []\n",
    "for i in range(len(emd_test)):\n",
    "    inp, target = emd_test[i][0], emd_test[i][1]\n",
    "    inp.unsqueeze_(0)\n",
    "    predictions.append(cnn.predict(inp, target, class_mapping)[0])\n",
    "    \n",
    "    if i % 100 == 0:\n",
    "        print(f'{i} / {len(emd_test)} Done')"
   ]
  },
  {
   "cell_type": "code",
   "execution_count": 49,
   "id": "c7279535",
   "metadata": {},
   "outputs": [
    {
     "data": {
      "text/plain": [
       "array([[186,  19,   2,  36,   9,   2],\n",
       "       [ 29, 133,   5,  23,  27,  37],\n",
       "       [ 14,  16,  91,  66,  14,  53],\n",
       "       [ 36,  12,  24, 152,  29,   2],\n",
       "       [  3,  13,   6,  17, 164,  15],\n",
       "       [  2,  24,  21,   7,  36, 164]])"
      ]
     },
     "execution_count": 49,
     "metadata": {},
     "output_type": "execute_result"
    }
   ],
   "source": [
    "confusion_matrix(expected, np.array(predictions))"
   ]
  },
  {
   "cell_type": "code",
   "execution_count": 50,
   "id": "879ad43f",
   "metadata": {},
   "outputs": [
    {
     "name": "stdout",
     "output_type": "stream",
     "text": [
      "              precision    recall  f1-score   support\n",
      "\n",
      "         ANG       0.69      0.73      0.71       254\n",
      "         DIS       0.61      0.52      0.56       254\n",
      "         FEA       0.61      0.36      0.45       254\n",
      "         HAP       0.50      0.60      0.55       255\n",
      "         NEU       0.59      0.75      0.66       218\n",
      "         SAD       0.60      0.65      0.62       254\n",
      "\n",
      "    accuracy                           0.60      1489\n",
      "   macro avg       0.60      0.60      0.59      1489\n",
      "weighted avg       0.60      0.60      0.59      1489\n",
      "\n"
     ]
    }
   ],
   "source": [
    "print(classification_report(expected, np.array(predictions)))"
   ]
  },
  {
   "cell_type": "code",
   "execution_count": null,
   "id": "3b48ae5b",
   "metadata": {},
   "outputs": [],
   "source": [
    "class_mapping = ['ANG', 'DIS', 'FEA', 'HAP', 'NEU', 'SAD']"
   ]
  }
 ],
 "metadata": {
  "kernelspec": {
   "display_name": "Python 3 (ipykernel)",
   "language": "python",
   "name": "python3"
  },
  "language_info": {
   "codemirror_mode": {
    "name": "ipython",
    "version": 3
   },
   "file_extension": ".py",
   "mimetype": "text/x-python",
   "name": "python",
   "nbconvert_exporter": "python",
   "pygments_lexer": "ipython3",
   "version": "3.9.5"
  }
 },
 "nbformat": 4,
 "nbformat_minor": 5
}
